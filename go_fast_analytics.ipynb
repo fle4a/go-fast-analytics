{
 "cells": [
  {
   "cell_type": "markdown",
   "id": "083733f7",
   "metadata": {},
   "source": [
    "<div style=\"border:solid green 3px; padding: 20px\">\n",
    "<b>🥇 Дмитрий, спасибо за доработки, проект принят, молодец!</b>\n",
    "    \n",
    "Ты провел отличную работу над ошибками! Уверен, ты обязательно достигнешь своей цели! Успехов в дальнейшем обучении! 🙂\n",
    "    "
   ]
  },
  {
   "cell_type": "markdown",
   "id": "06cfcf13",
   "metadata": {},
   "source": [
    "Дмитрий, привет! Меня зовут Ефимов Денис и сегодня я буду делать ревью твоего проекта!\\\n",
    "В Практикуме принято общаться на \"ты\", однако если это неудобно - дай знать, и можем перейти на более официальное общение.\n",
    "\n",
    "Ниже ты найдешь мои комментарии - пожалуйста, не перемещай, не изменяй и не удаляй их. Я буду использовать цветовую разметку: \n",
    "\n",
    "<div class=\"alert alert-block alert-success\">\n",
    "<b>✅Комментарий ревьюера:</b> Если все сделано хорошо. </div>\n",
    "\n",
    "<div class=\"alert alert-block alert-warning\">\n",
    "<b>🔁Комментарий ревьюера:</b> Некритичное замечание; если таких замечаний меньше трех — проект может быть принят без их отработки.</div>\n",
    "\n",
    "<div class=\"alert alert-block alert-danger\">\n",
    "<b>❌Комментарий ревьюера:</b> Грубая ошибка, необходимо исправить, иначе проект не будет принят.\n",
    "</div>\n",
    "\n",
    "Давай работать над проектом в диалоге: если ты что-то меняешь в проекте или отвечаешь на мои комментарии — пиши об этом. Мне будет легче отследить изменения, если ты выделишь свои комментарии:\n",
    "Например так:\n",
    "<div class=\"alert alert-block alert-info\">\n",
    "<b>🔄Комментарий студента:</b> \n",
    "Hello World! ✔\n",
    "</div>\n",
    "\n",
    "Или можешь использовать эту галочку ✔ в моих комментариях, если писать особо нечего.\n",
    "\n",
    "<div class=\"alert alert-block alert-warning\">\n",
    "<b>Общее впечатление:</b> \n",
    "    \n",
    "- Ты проделал огромную работу :)\n",
    "- У меня есть несколько замечаний, исправив которые ты сделаешь проект лучше.\n",
    "- Пробегись по моим комментариям, исправь недочёты и всё будет отлично :)\n",
    "    \n",
    "</div>\n",
    "\n"
   ]
  },
  {
   "cell_type": "markdown",
   "id": "cc44059f",
   "metadata": {},
   "source": [
    "<div class=\"alert alert-block alert-danger\">\n",
    "<b>❌Комментарий ревьюера:</b> \n",
    "    \n",
    " Любому проекту нужно название и введение - так ты поясняешь читателю, что вообще тут происходит. Также стоит задуматься, как еще его можно дополнить, чтобы сделать более ценным для читателя. Все инструкции по оформлению проекта есть на платформе в разделе \"Полезные инструкции для учебы\"\n",
    "    \n",
    "Также советую тебе взглянуть на <a href=\"https://www.kaggle.com/notebooks/\">работы</a> профессиональных аналитиков, чтобы оценить, как другие люди оформляют и проводят исследования.   \n",
    "\n",
    "</div>"
   ]
  },
  {
   "cell_type": "markdown",
   "id": "94c68c02",
   "metadata": {},
   "source": [
    "<div class=\"alert alert-block alert-info\">\n",
    "<b>🔄Комментарий студента:</b> \n",
    "Добавлен заголовок ✔\n",
    "</div>"
   ]
  },
  {
   "cell_type": "markdown",
   "id": "3d68fccc",
   "metadata": {},
   "source": [
    "<div class=\"alert alert-block alert-success\">\n",
    "<b>✅Комментарий ревьюера 2:</b> Отлично, исправлено!👍  </div>"
   ]
  },
  {
   "cell_type": "markdown",
   "id": "c1bb647d",
   "metadata": {},
   "source": [
    "# Исследование сервиса аренды самокатов GoFast\n",
    "Необходимо проанализировать данные и проверить некоторые гипотезы, которые могут помочь бизнесу вырасти.\n",
    "\n",
    "\n",
    "1. Тратят ли пользователи с подпиской больше времени на поездки?\n",
    "\n",
    "\n",
    "2. Можно ли сказать, что расстояние, которое проезжают пользователи с подпиской за одну поездку, не превышает 3130 метров?\n",
    "\n",
    "\n",
    "3. Помесячная выручка от пользователей с подпиской по месяцам выше, чем выручка от пользователей без подписки?\n",
    "\n",
    "\n",
    "4. Техническая команда сервиса обновила сервера, с которыми взаимодействует мобильное приложение. Она надеется, что из-за этого количество обращений в техподдержку значимо снизилось. Некоторый файл содержит для каждого пользователя данные о количестве обращений до обновления и после него. Какой тест вам понадобится для проверки этой гипотезы?\n"
   ]
  },
  {
   "cell_type": "markdown",
   "id": "28ed536e",
   "metadata": {},
   "source": [
    "<div class=\"alert alert-block alert-warning\">\n",
    "<b>🔁Комментарий ревьюера 2:</b> \n",
    "    \n",
    "Можно добавить описание имеющихся данных и примерный план действий.\n",
    "</div>"
   ]
  },
  {
   "cell_type": "code",
   "execution_count": 1,
   "id": "6fb93396",
   "metadata": {},
   "outputs": [],
   "source": [
    "import pandas as pd\n",
    "import matplotlib.pyplot as plt\n",
    "import numpy as np\n",
    "from scipy import stats as st"
   ]
  },
  {
   "cell_type": "markdown",
   "id": "069f04b9",
   "metadata": {},
   "source": [
    "<div class=\"alert alert-block alert-success\">\n",
    "<b>✅Комментарий ревьюера:</b> Молодец, что импортируешь все библиотеки в отдельной ячейке!  </div>"
   ]
  },
  {
   "cell_type": "markdown",
   "id": "62c8a94f",
   "metadata": {},
   "source": [
    "#### Шаг 1. Загрузка данных"
   ]
  },
  {
   "cell_type": "code",
   "execution_count": 2,
   "id": "586a40e0",
   "metadata": {},
   "outputs": [],
   "source": [
    "users = pd.read_csv('/datasets/users_go.csv')\n",
    "rides = pd.read_csv('/datasets/rides_go.csv')\n",
    "subscriptions = pd.read_csv('/datasets/subscriptions_go.csv')"
   ]
  },
  {
   "cell_type": "code",
   "execution_count": 3,
   "id": "aee0f4e3",
   "metadata": {},
   "outputs": [
    {
     "data": {
      "text/html": [
       "<div>\n",
       "<style scoped>\n",
       "    .dataframe tbody tr th:only-of-type {\n",
       "        vertical-align: middle;\n",
       "    }\n",
       "\n",
       "    .dataframe tbody tr th {\n",
       "        vertical-align: top;\n",
       "    }\n",
       "\n",
       "    .dataframe thead th {\n",
       "        text-align: right;\n",
       "    }\n",
       "</style>\n",
       "<table border=\"1\" class=\"dataframe\">\n",
       "  <thead>\n",
       "    <tr style=\"text-align: right;\">\n",
       "      <th></th>\n",
       "      <th>user_id</th>\n",
       "      <th>name</th>\n",
       "      <th>age</th>\n",
       "      <th>city</th>\n",
       "      <th>subscription_type</th>\n",
       "    </tr>\n",
       "  </thead>\n",
       "  <tbody>\n",
       "    <tr>\n",
       "      <th>0</th>\n",
       "      <td>1</td>\n",
       "      <td>Кира</td>\n",
       "      <td>22</td>\n",
       "      <td>Тюмень</td>\n",
       "      <td>ultra</td>\n",
       "    </tr>\n",
       "    <tr>\n",
       "      <th>1</th>\n",
       "      <td>2</td>\n",
       "      <td>Станислав</td>\n",
       "      <td>31</td>\n",
       "      <td>Омск</td>\n",
       "      <td>ultra</td>\n",
       "    </tr>\n",
       "    <tr>\n",
       "      <th>2</th>\n",
       "      <td>3</td>\n",
       "      <td>Алексей</td>\n",
       "      <td>20</td>\n",
       "      <td>Москва</td>\n",
       "      <td>ultra</td>\n",
       "    </tr>\n",
       "    <tr>\n",
       "      <th>3</th>\n",
       "      <td>4</td>\n",
       "      <td>Константин</td>\n",
       "      <td>26</td>\n",
       "      <td>Ростов-на-Дону</td>\n",
       "      <td>ultra</td>\n",
       "    </tr>\n",
       "    <tr>\n",
       "      <th>4</th>\n",
       "      <td>5</td>\n",
       "      <td>Адель</td>\n",
       "      <td>28</td>\n",
       "      <td>Омск</td>\n",
       "      <td>ultra</td>\n",
       "    </tr>\n",
       "  </tbody>\n",
       "</table>\n",
       "</div>"
      ],
      "text/plain": [
       "   user_id        name  age            city subscription_type\n",
       "0        1        Кира   22          Тюмень             ultra\n",
       "1        2   Станислав   31            Омск             ultra\n",
       "2        3     Алексей   20          Москва             ultra\n",
       "3        4  Константин   26  Ростов-на-Дону             ultra\n",
       "4        5       Адель   28            Омск             ultra"
      ]
     },
     "execution_count": 3,
     "metadata": {},
     "output_type": "execute_result"
    }
   ],
   "source": [
    "users.head(5)"
   ]
  },
  {
   "cell_type": "code",
   "execution_count": 4,
   "id": "d1aca544",
   "metadata": {},
   "outputs": [
    {
     "data": {
      "text/html": [
       "<div>\n",
       "<style scoped>\n",
       "    .dataframe tbody tr th:only-of-type {\n",
       "        vertical-align: middle;\n",
       "    }\n",
       "\n",
       "    .dataframe tbody tr th {\n",
       "        vertical-align: top;\n",
       "    }\n",
       "\n",
       "    .dataframe thead th {\n",
       "        text-align: right;\n",
       "    }\n",
       "</style>\n",
       "<table border=\"1\" class=\"dataframe\">\n",
       "  <thead>\n",
       "    <tr style=\"text-align: right;\">\n",
       "      <th></th>\n",
       "      <th>user_id</th>\n",
       "      <th>distance</th>\n",
       "      <th>duration</th>\n",
       "      <th>date</th>\n",
       "    </tr>\n",
       "  </thead>\n",
       "  <tbody>\n",
       "    <tr>\n",
       "      <th>0</th>\n",
       "      <td>1</td>\n",
       "      <td>4409.919140</td>\n",
       "      <td>25.599769</td>\n",
       "      <td>2021-01-01</td>\n",
       "    </tr>\n",
       "    <tr>\n",
       "      <th>1</th>\n",
       "      <td>1</td>\n",
       "      <td>2617.592153</td>\n",
       "      <td>15.816871</td>\n",
       "      <td>2021-01-18</td>\n",
       "    </tr>\n",
       "    <tr>\n",
       "      <th>2</th>\n",
       "      <td>1</td>\n",
       "      <td>754.159807</td>\n",
       "      <td>6.232113</td>\n",
       "      <td>2021-04-20</td>\n",
       "    </tr>\n",
       "    <tr>\n",
       "      <th>3</th>\n",
       "      <td>1</td>\n",
       "      <td>2694.783254</td>\n",
       "      <td>18.511000</td>\n",
       "      <td>2021-08-11</td>\n",
       "    </tr>\n",
       "    <tr>\n",
       "      <th>4</th>\n",
       "      <td>1</td>\n",
       "      <td>4028.687306</td>\n",
       "      <td>26.265803</td>\n",
       "      <td>2021-08-28</td>\n",
       "    </tr>\n",
       "  </tbody>\n",
       "</table>\n",
       "</div>"
      ],
      "text/plain": [
       "   user_id     distance   duration        date\n",
       "0        1  4409.919140  25.599769  2021-01-01\n",
       "1        1  2617.592153  15.816871  2021-01-18\n",
       "2        1   754.159807   6.232113  2021-04-20\n",
       "3        1  2694.783254  18.511000  2021-08-11\n",
       "4        1  4028.687306  26.265803  2021-08-28"
      ]
     },
     "execution_count": 4,
     "metadata": {},
     "output_type": "execute_result"
    }
   ],
   "source": [
    "rides.head(5)"
   ]
  },
  {
   "cell_type": "code",
   "execution_count": 5,
   "id": "cfa2515f",
   "metadata": {},
   "outputs": [
    {
     "data": {
      "text/html": [
       "<div>\n",
       "<style scoped>\n",
       "    .dataframe tbody tr th:only-of-type {\n",
       "        vertical-align: middle;\n",
       "    }\n",
       "\n",
       "    .dataframe tbody tr th {\n",
       "        vertical-align: top;\n",
       "    }\n",
       "\n",
       "    .dataframe thead th {\n",
       "        text-align: right;\n",
       "    }\n",
       "</style>\n",
       "<table border=\"1\" class=\"dataframe\">\n",
       "  <thead>\n",
       "    <tr style=\"text-align: right;\">\n",
       "      <th></th>\n",
       "      <th>subscription_type</th>\n",
       "      <th>minute_price</th>\n",
       "      <th>start_ride_price</th>\n",
       "      <th>subscription_fee</th>\n",
       "    </tr>\n",
       "  </thead>\n",
       "  <tbody>\n",
       "    <tr>\n",
       "      <th>0</th>\n",
       "      <td>free</td>\n",
       "      <td>8</td>\n",
       "      <td>50</td>\n",
       "      <td>0</td>\n",
       "    </tr>\n",
       "    <tr>\n",
       "      <th>1</th>\n",
       "      <td>ultra</td>\n",
       "      <td>6</td>\n",
       "      <td>0</td>\n",
       "      <td>199</td>\n",
       "    </tr>\n",
       "  </tbody>\n",
       "</table>\n",
       "</div>"
      ],
      "text/plain": [
       "  subscription_type  minute_price  start_ride_price  subscription_fee\n",
       "0              free             8                50                 0\n",
       "1             ultra             6                 0               199"
      ]
     },
     "execution_count": 5,
     "metadata": {},
     "output_type": "execute_result"
    }
   ],
   "source": [
    "subscriptions.head(5)"
   ]
  },
  {
   "cell_type": "code",
   "execution_count": 6,
   "id": "88bf17ad",
   "metadata": {},
   "outputs": [
    {
     "name": "stdout",
     "output_type": "stream",
     "text": [
      "<class 'pandas.core.frame.DataFrame'>\n",
      "RangeIndex: 1565 entries, 0 to 1564\n",
      "Data columns (total 5 columns):\n",
      " #   Column             Non-Null Count  Dtype \n",
      "---  ------             --------------  ----- \n",
      " 0   user_id            1565 non-null   int64 \n",
      " 1   name               1565 non-null   object\n",
      " 2   age                1565 non-null   int64 \n",
      " 3   city               1565 non-null   object\n",
      " 4   subscription_type  1565 non-null   object\n",
      "dtypes: int64(2), object(3)\n",
      "memory usage: 61.3+ KB\n"
     ]
    }
   ],
   "source": [
    "users.info()"
   ]
  },
  {
   "cell_type": "code",
   "execution_count": 7,
   "id": "30210be5",
   "metadata": {},
   "outputs": [
    {
     "name": "stdout",
     "output_type": "stream",
     "text": [
      "<class 'pandas.core.frame.DataFrame'>\n",
      "RangeIndex: 18068 entries, 0 to 18067\n",
      "Data columns (total 4 columns):\n",
      " #   Column    Non-Null Count  Dtype  \n",
      "---  ------    --------------  -----  \n",
      " 0   user_id   18068 non-null  int64  \n",
      " 1   distance  18068 non-null  float64\n",
      " 2   duration  18068 non-null  float64\n",
      " 3   date      18068 non-null  object \n",
      "dtypes: float64(2), int64(1), object(1)\n",
      "memory usage: 564.8+ KB\n"
     ]
    }
   ],
   "source": [
    "rides.info()"
   ]
  },
  {
   "cell_type": "markdown",
   "id": "2f7e5856",
   "metadata": {},
   "source": [
    "**Промежуточный вывод: пропущенных значениях нет, данные имеют правильные форматы**"
   ]
  },
  {
   "cell_type": "markdown",
   "id": "740bce8e",
   "metadata": {},
   "source": [
    "<div class=\"alert alert-block alert-success\">\n",
    "<b>✅Комментарий ревьюера:</b> Отлично, с данными познакомились!  </div>"
   ]
  },
  {
   "cell_type": "markdown",
   "id": "b90651f8",
   "metadata": {},
   "source": [
    "#### Шаг 2. Предобработка данных"
   ]
  },
  {
   "cell_type": "code",
   "execution_count": 8,
   "id": "b8c120ee",
   "metadata": {},
   "outputs": [],
   "source": [
    "rides['date'] = pd.to_datetime(rides['date'])"
   ]
  },
  {
   "cell_type": "code",
   "execution_count": 9,
   "id": "730f0cc6",
   "metadata": {},
   "outputs": [],
   "source": [
    "rides['month'] = rides['date'].dt.month"
   ]
  },
  {
   "cell_type": "markdown",
   "id": "414804d5",
   "metadata": {},
   "source": [
    "<div class=\"alert alert-block alert-warning\">\n",
    "<b>🔁Комментарий ревьюера:</b> \n",
    "\n",
    "Дополнительно можно проверить данные за какой период у нас имеются</div>"
   ]
  },
  {
   "cell_type": "markdown",
   "id": "5cee56fb",
   "metadata": {},
   "source": [
    "<div class=\"alert alert-block alert-info\">\n",
    "<b>🔄Комментарий студента:</b> \n",
    "Проверен период данных ✔\n",
    "</div>"
   ]
  },
  {
   "cell_type": "markdown",
   "id": "f950df3c",
   "metadata": {},
   "source": [
    "<div class=\"alert alert-block alert-success\">\n",
    "<b>✅Комментарий ревьюера 2:</b> Отлично, исправлено!👍  </div>"
   ]
  },
  {
   "cell_type": "code",
   "execution_count": 10,
   "id": "54df9f9c",
   "metadata": {},
   "outputs": [
    {
     "data": {
      "text/plain": [
       "Timestamp('2021-01-01 00:00:00')"
      ]
     },
     "execution_count": 10,
     "metadata": {},
     "output_type": "execute_result"
    }
   ],
   "source": [
    "rides['date'].min()"
   ]
  },
  {
   "cell_type": "code",
   "execution_count": 11,
   "id": "759fa40a",
   "metadata": {},
   "outputs": [
    {
     "data": {
      "text/plain": [
       "Timestamp('2021-12-30 00:00:00')"
      ]
     },
     "execution_count": 11,
     "metadata": {},
     "output_type": "execute_result"
    }
   ],
   "source": [
    "rides['date'].max()"
   ]
  },
  {
   "cell_type": "markdown",
   "id": "af7951dc",
   "metadata": {},
   "source": [
    "**Информация о поездках за весь 2021 год**"
   ]
  },
  {
   "cell_type": "markdown",
   "id": "fcaeaa6d",
   "metadata": {},
   "source": [
    "<div class=\"alert alert-block alert-warning\">\n",
    "<b>🔁Комментарий ревьюера:</b> \n",
    "\n",
    "Перед удалением дубликатов стоит проверить их наличие</div>"
   ]
  },
  {
   "cell_type": "markdown",
   "id": "e8cb0b0f",
   "metadata": {},
   "source": [
    "<div class=\"alert alert-block alert-info\">\n",
    "<b>🔄Комментарий студента:</b> \n",
    "Подсчитано количество явных дубликатов ✔\n",
    "</div>"
   ]
  },
  {
   "cell_type": "markdown",
   "id": "557faeea",
   "metadata": {},
   "source": [
    "<div class=\"alert alert-block alert-success\">\n",
    "<b>✅Комментарий ревьюера 2:</b> Отлично, исправлено!👍  </div>"
   ]
  },
  {
   "cell_type": "code",
   "execution_count": 12,
   "id": "992b3f80",
   "metadata": {
    "scrolled": true
   },
   "outputs": [
    {
     "data": {
      "text/plain": [
       "31"
      ]
     },
     "execution_count": 12,
     "metadata": {},
     "output_type": "execute_result"
    }
   ],
   "source": [
    "users.duplicated().sum()"
   ]
  },
  {
   "cell_type": "code",
   "execution_count": 13,
   "id": "73c0d967",
   "metadata": {},
   "outputs": [
    {
     "data": {
      "text/plain": [
       "0"
      ]
     },
     "execution_count": 13,
     "metadata": {},
     "output_type": "execute_result"
    }
   ],
   "source": [
    "rides.duplicated().sum()"
   ]
  },
  {
   "cell_type": "code",
   "execution_count": 14,
   "id": "eb46c398",
   "metadata": {},
   "outputs": [],
   "source": [
    "users = users.drop_duplicates()"
   ]
  },
  {
   "cell_type": "markdown",
   "id": "5e77c28d",
   "metadata": {
    "id": "5766e785"
   },
   "source": [
    "<div class=\"alert alert-block alert-danger\">\n",
    "<b>❌Комментарий ревьюера:</b> \n",
    "    \n",
    "После этапа предобработки также нужно сделать краткий резюмирующий вывод о проделанной работе.</div>"
   ]
  },
  {
   "cell_type": "markdown",
   "id": "0f7e96f4",
   "metadata": {},
   "source": [
    "<div class=\"alert alert-block alert-info\">\n",
    "<b>🔄Комментарий студента:</b> \n",
    "Добавлен вывод ✔\n",
    "</div>"
   ]
  },
  {
   "cell_type": "markdown",
   "id": "6bc37519",
   "metadata": {},
   "source": [
    "<div class=\"alert alert-block alert-success\">\n",
    "<b>✅Комментарий ревьюера 2:</b> Отлично, исправлено!👍  </div>"
   ]
  },
  {
   "cell_type": "markdown",
   "id": "de126e80",
   "metadata": {},
   "source": [
    "**Вывод:**\n",
    "\n",
    "\n",
    "1. В таблице `users` были удалены 31 явных дубликата\n",
    "\n",
    "\n",
    "2. Столбец `date` переведен в формат pandas date\n",
    "\n",
    "\n",
    "3. Добавлен столбец `month` отображаюищй месяц поездки\n",
    "\n",
    "\n",
    "4. Период поездок - весь 2021 год\n",
    "\n"
   ]
  },
  {
   "cell_type": "markdown",
   "id": "a2662c2a",
   "metadata": {},
   "source": [
    "#### Шаг 3. Исследовательский анализ данных"
   ]
  },
  {
   "cell_type": "markdown",
   "id": "bec13c9e",
   "metadata": {},
   "source": [
    "<div class=\"alert alert-block alert-warning\">\n",
    "<b>🔁Комментарий ревьюера:</b> \n",
    "\n",
    "Для удобства лучше повернуть график на 90 градусов и сделать сортировку по убыванию.</div>"
   ]
  },
  {
   "cell_type": "markdown",
   "id": "c50b4ddb",
   "metadata": {},
   "source": [
    "<div class=\"alert alert-block alert-info\">\n",
    "<b>🔄Комментарий студента:</b> \n",
    "Повернул график на 90, сделал сортировку по убыванию, подписал график ✔\n",
    "</div>"
   ]
  },
  {
   "cell_type": "markdown",
   "id": "1baeebf7",
   "metadata": {},
   "source": [
    "<div class=\"alert alert-block alert-success\">\n",
    "<b>✅Комментарий ревьюера 2:</b> Отлично, исправлено!👍  </div>"
   ]
  },
  {
   "cell_type": "code",
   "execution_count": 15,
   "id": "de7e1c15",
   "metadata": {},
   "outputs": [
    {
     "data": {
      "text/plain": [
       "<AxesSubplot:title={'center':'Количество поездок по городам'}, ylabel='Город'>"
      ]
     },
     "execution_count": 15,
     "metadata": {},
     "output_type": "execute_result"
    },
    {
     "data": {
      "image/png": "[encoded data removed]",
      "text/plain": [
       "<Figure size 432x288 with 1 Axes>"
      ]
     },
     "metadata": {
      "needs_background": "light"
     },
     "output_type": "display_data"
    }
   ],
   "source": [
    "users.groupby('city')['city'].count().sort_values().plot(\n",
    "    kind = 'barh',\n",
    "    xlabel = 'Город',\n",
    "    ylabel = 'Количество поездок',\n",
    "    title = 'Количество поездок по городам'\n",
    ")"
   ]
  },
  {
   "cell_type": "markdown",
   "id": "c91c3d94",
   "metadata": {},
   "source": [
    "<div class=\"alert alert-block alert-danger\">\n",
    "<b>❌Комментарий ревьюера:</b>\n",
    "    \n",
    "Необходимо подписывать каждый график. Есть [хорошая статья](https://devpractice.ru/matplotlib-lesson-3-3-text-elements/), которая подскажет как это правильно сделать). </div>"
   ]
  },
  {
   "cell_type": "markdown",
   "id": "37353593",
   "metadata": {},
   "source": [
    "<div class=\"alert alert-block alert-success\">\n",
    "<b>✅Комментарий ревьюера 2:</b> Отлично, исправлено!👍  </div>"
   ]
  },
  {
   "cell_type": "markdown",
   "id": "f13e8864",
   "metadata": {},
   "source": [
    "**Меньше всего поездок в Москве, больше всего в Пятигорске, но больших разниц между городами нет**"
   ]
  },
  {
   "cell_type": "markdown",
   "id": "27234365",
   "metadata": {},
   "source": [
    "<div class=\"alert alert-block alert-warning\">\n",
    "<b>🔁Комментарий ревьюера:</b>\n",
    "\n",
    "Тут отлично подошла бы круговая диаграмма с отображением на ней соотношения групп пользователей в %</div>"
   ]
  },
  {
   "cell_type": "markdown",
   "id": "56f411fb",
   "metadata": {},
   "source": [
    "<div class=\"alert alert-block alert-info\">\n",
    "<b>🔄Комментарий студента:</b> \n",
    "Поменял на круговую диаграмму, добавил процентное соотношение ✔\n",
    "</div>"
   ]
  },
  {
   "cell_type": "markdown",
   "id": "1b272618",
   "metadata": {},
   "source": [
    "<div class=\"alert alert-block alert-success\">\n",
    "<b>✅Комментарий ревьюера 2:</b> Отлично, исправлено!👍  </div>"
   ]
  },
  {
   "cell_type": "code",
   "execution_count": 16,
   "id": "e8b2dfe3",
   "metadata": {},
   "outputs": [
    {
     "data": {
      "text/plain": [
       "<AxesSubplot:title={'center':'Распределение с подпиской и без подписки'}>"
      ]
     },
     "execution_count": 16,
     "metadata": {},
     "output_type": "execute_result"
    },
    {
     "data": {
      "image/png": "[encoded data removed]",
      "text/plain": [
       "<Figure size 576x576 with 1 Axes>"
      ]
     },
     "metadata": {},
     "output_type": "display_data"
    }
   ],
   "source": [
    "(users.merge(subscriptions)\n",
    " .groupby('subscription_type')['subscription_type']\n",
    " .count()\n",
    " .plot(\n",
    "    kind = 'pie',\n",
    "    autopct='%1.1f%%',\n",
    "    figsize = (8,8),\n",
    "    labels = ['Без подписки','С подпиской'],\n",
    "    ylabel = '',\n",
    "    title = 'Распределение с подпиской и без подписки'\n",
    " ))"
   ]
  },
  {
   "cell_type": "markdown",
   "id": "4f09d98a",
   "metadata": {},
   "source": [
    "**Пользователей без подписки больше чем без подписки**"
   ]
  },
  {
   "cell_type": "code",
   "execution_count": 17,
   "id": "dab47978",
   "metadata": {},
   "outputs": [
    {
     "data": {
      "text/plain": [
       "<AxesSubplot:title={'center':'Распределение поездок по возрасту'}, xlabel='Возраст', ylabel='Количество пользователей'>"
      ]
     },
     "execution_count": 17,
     "metadata": {},
     "output_type": "execute_result"
    },
    {
     "data": {
      "image/png": "[encoded data removed]",
      "text/plain": [
       "<Figure size 576x576 with 1 Axes>"
      ]
     },
     "metadata": {
      "needs_background": "light"
     },
     "output_type": "display_data"
    }
   ],
   "source": [
    "users.groupby('age')['age'].count().plot.bar(\n",
    "    figsize = (8,8),\n",
    "    xlabel = 'Возраст',\n",
    "    ylabel = 'Количество пользователей',\n",
    "    title = 'Распределение поездок по возрасту'\n",
    ")"
   ]
  },
  {
   "cell_type": "markdown",
   "id": "7cfbbc5f",
   "metadata": {},
   "source": [
    "<div class=\"alert alert-block alert-warning\">\n",
    "<b>🔁Комментарий ревьюера:</b>\n",
    "\n",
    "Также стоит выделить диапазон значений для основного количества пользователей.\n",
    "\n",
    "Дополнительно для анализа можно использовать метод `describe()` </div>"
   ]
  },
  {
   "cell_type": "markdown",
   "id": "47f7385d",
   "metadata": {},
   "source": [
    "<div class=\"alert alert-block alert-info\">\n",
    "<b>🔄Комментарий студента:</b> \n",
    "Проанализировал диапазон значений, выделил среднее, минимальное, максимальное ✔\n",
    "</div>"
   ]
  },
  {
   "cell_type": "markdown",
   "id": "d549e7e6",
   "metadata": {},
   "source": [
    "<div class=\"alert alert-block alert-success\">\n",
    "<b>✅Комментарий ревьюера 2:</b> Отлично, исправлено!👍  </div>"
   ]
  },
  {
   "cell_type": "code",
   "execution_count": 18,
   "id": "c3d5e63f",
   "metadata": {},
   "outputs": [
    {
     "data": {
      "text/plain": [
       "count    1534.000000\n",
       "mean       24.903520\n",
       "std         4.572367\n",
       "min        12.000000\n",
       "25%        22.000000\n",
       "50%        25.000000\n",
       "75%        28.000000\n",
       "max        43.000000\n",
       "Name: age, dtype: float64"
      ]
     },
     "execution_count": 18,
     "metadata": {},
     "output_type": "execute_result"
    }
   ],
   "source": [
    "users['age'].describe()"
   ]
  },
  {
   "cell_type": "markdown",
   "id": "c777c630",
   "metadata": {},
   "source": [
    "**Возраст распределен нормально с средним 25, минимальный возраст 12, максимальный 43**"
   ]
  },
  {
   "cell_type": "code",
   "execution_count": 19,
   "id": "814375cb",
   "metadata": {},
   "outputs": [
    {
     "data": {
      "image/png": "[encoded data removed]",
      "text/plain": [
       "<Figure size 432x288 with 1 Axes>"
      ]
     },
     "metadata": {
      "needs_background": "light"
     },
     "output_type": "display_data"
    }
   ],
   "source": [
    "ax = rides['distance'].plot(\n",
    "    kind = 'hist',\n",
    "    bins = 30,\n",
    ")\n",
    "ax.set_xlabel('Длина поездки, метров')\n",
    "ax.set_ylabel('Количество поездок')\n",
    "ax.set_title('Распределение длины поездки')\n",
    "plt.show()"
   ]
  },
  {
   "cell_type": "markdown",
   "id": "d7c1f783",
   "metadata": {},
   "source": [
    "<div class=\"alert alert-block alert-warning\">\n",
    "<b>🔁Комментарий ревьюера 2:</b>\n",
    "\n",
    "Как ты думаешь, чем можно объяснить два пиковых значения на распределении?</div>"
   ]
  },
  {
   "cell_type": "code",
   "execution_count": 20,
   "id": "e93f0d5f",
   "metadata": {},
   "outputs": [
    {
     "data": {
      "text/plain": [
       "count    18068.000000\n",
       "mean      3070.659976\n",
       "std       1116.831209\n",
       "min          0.855683\n",
       "25%       2543.226360\n",
       "50%       3133.609994\n",
       "75%       3776.222735\n",
       "max       7211.007745\n",
       "Name: distance, dtype: float64"
      ]
     },
     "execution_count": 20,
     "metadata": {},
     "output_type": "execute_result"
    }
   ],
   "source": [
    "rides['distance'].describe()"
   ]
  },
  {
   "cell_type": "markdown",
   "id": "13f63215",
   "metadata": {},
   "source": [
    "**В среднем одна поезда составляет 3070 метров, данные имеют странное падение при длине поездки 1500, минимум меньше метра, максимум 7211 метров**"
   ]
  },
  {
   "cell_type": "code",
   "execution_count": 21,
   "id": "93811196",
   "metadata": {},
   "outputs": [
    {
     "data": {
      "image/png": "[encoded data removed]",
      "text/plain": [
       "<Figure size 432x288 with 1 Axes>"
      ]
     },
     "metadata": {
      "needs_background": "light"
     },
     "output_type": "display_data"
    }
   ],
   "source": [
    "ax = rides['duration'].plot(\n",
    "    kind = 'hist',\n",
    "    bins = 30,\n",
    ")\n",
    "ax.set_xlabel('Время поездки, минут')\n",
    "ax.set_ylabel('Количество поездок')\n",
    "ax.set_title('Распределение времени поездки')\n",
    "plt.show()"
   ]
  },
  {
   "cell_type": "code",
   "execution_count": 22,
   "id": "799cc406",
   "metadata": {
    "scrolled": true
   },
   "outputs": [
    {
     "data": {
      "text/plain": [
       "count    18068.000000\n",
       "mean        17.805011\n",
       "std          6.091051\n",
       "min          0.500000\n",
       "25%         13.597563\n",
       "50%         17.678395\n",
       "75%         21.724800\n",
       "max         40.823963\n",
       "Name: duration, dtype: float64"
      ]
     },
     "execution_count": 22,
     "metadata": {},
     "output_type": "execute_result"
    }
   ],
   "source": [
    "rides['duration'].describe()"
   ]
  },
  {
   "cell_type": "markdown",
   "id": "ea3c10fb",
   "metadata": {},
   "source": [
    "**В среднем одна поездки длится 18 минут, данные имеют нормально распределение, минимум 0.5 минуты, максимум 40.8 минут**"
   ]
  },
  {
   "cell_type": "markdown",
   "id": "6944de57",
   "metadata": {
    "id": "5766e785"
   },
   "source": [
    "<div class=\"alert alert-block alert-danger\">\n",
    "<b>❌Комментарий ревьюера:</b> \n",
    "    \n",
    "По дистанции и продолжительности поездок нам необходимо построить распределение значений с помощью гистограмм, описать их и сделать выводы.\n",
    "\n",
    "Не забывай подписывать названия для графиков и оси.</div>"
   ]
  },
  {
   "cell_type": "markdown",
   "id": "7e536870",
   "metadata": {},
   "source": [
    "<div class=\"alert alert-block alert-info\">\n",
    "<b>🔄Комментарий студента:</b> \n",
    "Сделал гистограммы для длины и времени поездки, подписал оси и графики, проанализировал каждый из них, добавил вывод✔\n",
    "</div>"
   ]
  },
  {
   "cell_type": "markdown",
   "id": "271f8c58",
   "metadata": {},
   "source": [
    "<div class=\"alert alert-block alert-success\">\n",
    "<b>✅Комментарий ревьюера 2:</b> Отлично, исправлено!👍  </div>"
   ]
  },
  {
   "cell_type": "markdown",
   "id": "f3b809aa",
   "metadata": {},
   "source": [
    "**Вывод:**\n",
    "\n",
    "1. Гистограмма расстояний близка к нормальному распределению, присутствует аномальное падение при 1500 метрах, минимум 0.7 метров, максимум 7211 метров, среднее 3070\n",
    "\n",
    "\n",
    "2. Гистограмма времени поездки имеет нормальное распределение, минимум 0.5 минуты, максимум 40.8 минут, среднее 18 минут\n",
    "\n"
   ]
  },
  {
   "cell_type": "markdown",
   "id": "ec92dab5",
   "metadata": {},
   "source": [
    "#### Шаг 4. Объединение данных"
   ]
  },
  {
   "cell_type": "code",
   "execution_count": 23,
   "id": "9fed4c73",
   "metadata": {},
   "outputs": [],
   "source": [
    "df = users.merge(rides).merge(subscriptions)"
   ]
  },
  {
   "cell_type": "markdown",
   "id": "c4a25cfe",
   "metadata": {},
   "source": [
    "<div class=\"alert alert-block alert-warning\">\n",
    "<b>🔁Комментарий ревьюера:</b>\n",
    "\n",
    "Тут стоит проверить количество строк полученной таблицы и сравнить ее с количеством строк таблиц до объединения, чтобы убедиться что мы ничего не потеряли.\n",
    "\n",
    "</div>"
   ]
  },
  {
   "cell_type": "markdown",
   "id": "e4f81fad",
   "metadata": {},
   "source": [
    "<div class=\"alert alert-block alert-info\">\n",
    "<b>🔄Комментарий студента:</b> \n",
    "Проверил совпадение размера после слияния✔\n",
    "</div>"
   ]
  },
  {
   "cell_type": "markdown",
   "id": "45792089",
   "metadata": {},
   "source": [
    "<div class=\"alert alert-block alert-success\">\n",
    "<b>✅Комментарий ревьюера 2:</b> Отлично, исправлено!👍  </div>"
   ]
  },
  {
   "cell_type": "code",
   "execution_count": 24,
   "id": "68b8df4a",
   "metadata": {},
   "outputs": [
    {
     "data": {
      "text/plain": [
       "True"
      ]
     },
     "execution_count": 24,
     "metadata": {},
     "output_type": "execute_result"
    }
   ],
   "source": [
    "rides.shape[0] == df.shape[0]"
   ]
  },
  {
   "cell_type": "markdown",
   "id": "da471863",
   "metadata": {},
   "source": [
    "**Все данные слились правильно**"
   ]
  },
  {
   "cell_type": "code",
   "execution_count": 25,
   "id": "6d08915b",
   "metadata": {},
   "outputs": [],
   "source": [
    "df_sub = df.query('subscription_type == \"ultra\"')\n",
    "df_no_sub = df.query('subscription_type == \"free\"')"
   ]
  },
  {
   "cell_type": "markdown",
   "id": "b2ba22d1",
   "metadata": {},
   "source": [
    "<div class=\"alert alert-block alert-success\">\n",
    "<b>✅Комментарий ревьюера:</b> Таблицы созданы верно!  </div>"
   ]
  },
  {
   "cell_type": "code",
   "execution_count": 26,
   "id": "34ea65c9",
   "metadata": {},
   "outputs": [
    {
     "data": {
      "image/png": "[encoded data removed]",
      "text/plain": [
       "<Figure size 432x432 with 2 Axes>"
      ]
     },
     "metadata": {
      "needs_background": "light"
     },
     "output_type": "display_data"
    }
   ],
   "source": [
    "fig, (ax1, ax2) = plt.subplots(2, 1, figsize=(6, 6))\n",
    "\n",
    "ax1.hist(df_sub['distance'], bins=30)\n",
    "ax1.set_xlabel('Длина поездки, метров')\n",
    "ax1.set_ylabel('Количество поездок')\n",
    "ax1.set_title('Распределения длины поездок у пользователей с подпиской')\n",
    "\n",
    "ax2.hist(df_sub['duration'], bins=30)\n",
    "ax2.set_xlabel('Время поездки, минут')\n",
    "ax2.set_ylabel('Количество поездок')\n",
    "ax2.set_title('Распределения времени поездок у пользователей с подпиской')\n",
    "\n",
    "plt.tight_layout()\n",
    "\n",
    "plt.show()"
   ]
  },
  {
   "cell_type": "code",
   "execution_count": 27,
   "id": "d2a73411",
   "metadata": {},
   "outputs": [
    {
     "data": {
      "text/plain": [
       "count    6500.000000\n",
       "mean     3115.445388\n",
       "std       836.895330\n",
       "min       244.210438\n",
       "25%      2785.444017\n",
       "50%      3148.637229\n",
       "75%      3560.574425\n",
       "max      5699.769662\n",
       "Name: distance, dtype: float64"
      ]
     },
     "execution_count": 27,
     "metadata": {},
     "output_type": "execute_result"
    }
   ],
   "source": [
    "df_sub['distance'].describe()"
   ]
  },
  {
   "cell_type": "code",
   "execution_count": 28,
   "id": "6af56c39",
   "metadata": {},
   "outputs": [
    {
     "data": {
      "text/plain": [
       "count    6500.000000\n",
       "mean       18.541985\n",
       "std         5.572048\n",
       "min         3.760353\n",
       "25%        14.524654\n",
       "50%        18.178153\n",
       "75%        21.884129\n",
       "max        40.823963\n",
       "Name: duration, dtype: float64"
      ]
     },
     "execution_count": 28,
     "metadata": {},
     "output_type": "execute_result"
    }
   ],
   "source": [
    "df_sub['duration'].describe()"
   ]
  },
  {
   "cell_type": "markdown",
   "id": "93f0b314",
   "metadata": {
    "id": "5766e785"
   },
   "source": [
    "<div class=\"alert alert-block alert-danger\">\n",
    "<b>❌Комментарий ревьюера:</b> \n",
    "    \n",
    "Напомню, что каждый график в проекте и оси на нем должны быть подписаны</div>"
   ]
  },
  {
   "cell_type": "markdown",
   "id": "50235629",
   "metadata": {},
   "source": [
    "<div class=\"alert alert-block alert-info\">\n",
    "<b>🔄Комментарий студента:</b> \n",
    "Подписал график и оси✔\n",
    "</div>"
   ]
  },
  {
   "cell_type": "markdown",
   "id": "d48cabc0",
   "metadata": {},
   "source": [
    "<div class=\"alert alert-block alert-success\">\n",
    "<b>✅Комментарий ревьюера 2:</b> Отлично, исправлено!👍  </div>"
   ]
  },
  {
   "cell_type": "markdown",
   "id": "4c031cac",
   "metadata": {},
   "source": [
    "\n",
    "1. Дальность поездок не имеют какого то четкого распределение, есть странное падение от 1500 до 2000 метров, среднее расстояние 3115 метров\n",
    "2. Длительность поездок имеют нормальное распределение, средняя длительность 18.5 минут"
   ]
  },
  {
   "cell_type": "code",
   "execution_count": 29,
   "id": "4a7ec10d",
   "metadata": {
    "scrolled": true
   },
   "outputs": [
    {
     "data": {
      "image/png": "[encoded data removed]",
      "text/plain": [
       "<Figure size 432x432 with 2 Axes>"
      ]
     },
     "metadata": {
      "needs_background": "light"
     },
     "output_type": "display_data"
    }
   ],
   "source": [
    "fig, (ax1, ax2) = plt.subplots(2, 1, figsize=(6, 6))\n",
    "\n",
    "ax1.hist(df_no_sub['distance'], bins=30)\n",
    "ax1.set_xlabel('Длина поездки, метров')\n",
    "ax1.set_ylabel('Количество поездок')\n",
    "ax1.set_title('Распределения длины поездок у пользователей без подписки')\n",
    "\n",
    "ax2.hist(df_no_sub['duration'], bins=30)\n",
    "ax2.set_xlabel('Время поездки, минут')\n",
    "ax2.set_ylabel('Количество поездок')\n",
    "ax2.set_title('Распределения времени поездок у пользователей без подписки')\n",
    "\n",
    "plt.tight_layout()\n",
    "\n",
    "plt.show()"
   ]
  },
  {
   "cell_type": "code",
   "execution_count": 30,
   "id": "13c4707f",
   "metadata": {},
   "outputs": [
    {
     "data": {
      "text/plain": [
       "count    11568.000000\n",
       "mean      3045.495282\n",
       "std       1246.173806\n",
       "min          0.855683\n",
       "25%       2366.562689\n",
       "50%       3114.648465\n",
       "75%       3905.697894\n",
       "max       7211.007745\n",
       "Name: distance, dtype: float64"
      ]
     },
     "execution_count": 30,
     "metadata": {},
     "output_type": "execute_result"
    }
   ],
   "source": [
    "df_no_sub['distance'].describe()"
   ]
  },
  {
   "cell_type": "code",
   "execution_count": 31,
   "id": "a2b5d2ca",
   "metadata": {},
   "outputs": [
    {
     "data": {
      "text/plain": [
       "count    11568.000000\n",
       "mean        17.390909\n",
       "std          6.326803\n",
       "min          0.500000\n",
       "25%         12.958437\n",
       "50%         17.326890\n",
       "75%         21.594071\n",
       "max         34.948498\n",
       "Name: duration, dtype: float64"
      ]
     },
     "execution_count": 31,
     "metadata": {},
     "output_type": "execute_result"
    }
   ],
   "source": [
    "df_no_sub['duration'].describe()"
   ]
  },
  {
   "cell_type": "markdown",
   "id": "783bd87f",
   "metadata": {},
   "source": [
    "<div class=\"alert alert-block alert-warning\">\n",
    "<b>🔁Комментарий ревьюера:</b> \n",
    "\n",
    "Распределения для обеих групп пользователей можно объединить для наглядности, наложив их друг на друга.</div>"
   ]
  },
  {
   "cell_type": "markdown",
   "id": "7e5d1e14",
   "metadata": {},
   "source": [
    "1. Дальность поездки также имеют падение в районе 1500 метров, среднее расстояние 3045\n",
    "2. Длительность поездки имеет нормальное распределение, средняя длительность  17.4 минут"
   ]
  },
  {
   "cell_type": "code",
   "execution_count": 32,
   "id": "1ced5822",
   "metadata": {
    "scrolled": true
   },
   "outputs": [
    {
     "data": {
      "text/plain": [
       "3148.6372291760854"
      ]
     },
     "execution_count": 32,
     "metadata": {},
     "output_type": "execute_result"
    }
   ],
   "source": [
    "df_sub['distance'].median()"
   ]
  },
  {
   "cell_type": "code",
   "execution_count": 33,
   "id": "a0619f8b",
   "metadata": {},
   "outputs": [
    {
     "data": {
      "text/plain": [
       "3114.648464847295"
      ]
     },
     "execution_count": 33,
     "metadata": {},
     "output_type": "execute_result"
    }
   ],
   "source": [
    "df_no_sub['distance'].median()"
   ]
  },
  {
   "cell_type": "code",
   "execution_count": 34,
   "id": "4609e7bb",
   "metadata": {},
   "outputs": [
    {
     "data": {
      "text/plain": [
       "18.54198516280583"
      ]
     },
     "execution_count": 34,
     "metadata": {},
     "output_type": "execute_result"
    }
   ],
   "source": [
    "df_sub['duration'].mean()"
   ]
  },
  {
   "cell_type": "code",
   "execution_count": 35,
   "id": "cbf0ef91",
   "metadata": {},
   "outputs": [
    {
     "data": {
      "text/plain": [
       "17.39090929866399"
      ]
     },
     "execution_count": 35,
     "metadata": {},
     "output_type": "execute_result"
    }
   ],
   "source": [
    "df_no_sub['duration'].mean()"
   ]
  },
  {
   "cell_type": "markdown",
   "id": "ba8b0239",
   "metadata": {},
   "source": [
    "**Вывод:**\n",
    "\n",
    "1. Медианное расстояние для пользователей с подпиской и без подписки почти не отличается\n",
    "2. Среднее время поездки для пользователей с подпиской и без подписки частично отличается, у людей с подпиской в среднем поездка длиться дольше на 1 минуту"
   ]
  },
  {
   "cell_type": "markdown",
   "id": "d8b6992b",
   "metadata": {},
   "source": [
    "#### Шаг 5. Подсчёт выручки"
   ]
  },
  {
   "cell_type": "code",
   "execution_count": 36,
   "id": "7f4a199d",
   "metadata": {},
   "outputs": [],
   "source": [
    "df_copy = df.copy()\n",
    "df_copy['duration'] = df_copy['duration'].apply('ceil')"
   ]
  },
  {
   "cell_type": "code",
   "execution_count": 37,
   "id": "c853e514",
   "metadata": {},
   "outputs": [],
   "source": [
    "info_by_user = df_copy.groupby(['user_id','month']).agg({'duration': 'sum','distance':'sum','user_id':'count'})\n",
    "info_by_user = info_by_user.rename(columns = {'user_id':'count'})"
   ]
  },
  {
   "cell_type": "markdown",
   "id": "9d468250",
   "metadata": {},
   "source": [
    "<div class=\"alert alert-block alert-danger\">\n",
    "<b>❌Комментарий ревьюера:</b> \n",
    "    \n",
    "Метод округления выбран верный, но округлять необходимо каждую поездку, то есть в исходной таблице до агрегирования.\n",
    "\n",
    "\n",
    "</div>"
   ]
  },
  {
   "cell_type": "markdown",
   "id": "04242976",
   "metadata": {},
   "source": [
    "<div class=\"alert alert-block alert-info\">\n",
    "<b>🔄Комментарий студента:</b> \n",
    "Сделано округление продолжительности для каждой поездки✔\n",
    "</div>"
   ]
  },
  {
   "cell_type": "markdown",
   "id": "3277a583",
   "metadata": {},
   "source": [
    "<div class=\"alert alert-block alert-success\">\n",
    "<b>✅Комментарий ревьюера 2:</b> Отлично, исправлено!👍  </div>"
   ]
  },
  {
   "cell_type": "code",
   "execution_count": 38,
   "id": "d739c403",
   "metadata": {},
   "outputs": [],
   "source": [
    "price_by_user= (df.groupby(['user_id',\n",
    "             'month'])\n",
    "            [['minute_price',\n",
    "              'start_ride_price',\n",
    "              'subscription_fee',\n",
    "              'subscription_type']]\n",
    "             .first())"
   ]
  },
  {
   "cell_type": "markdown",
   "id": "c2423def",
   "metadata": {},
   "source": [
    "<div class=\"alert alert-block alert-warning\">\n",
    "<b>🔁Комментарий ревьюера:</b> \n",
    "    \n",
    "Все эти значения лучше добавить в таблицу info_by_user, чтобы в формуле для расчета выручки использовать столбцы из одной таблицы.\n",
    "\n",
    "</div>"
   ]
  },
  {
   "cell_type": "code",
   "execution_count": 39,
   "id": "a111a13d",
   "metadata": {},
   "outputs": [],
   "source": [
    "info_by_user['income'] = (info_by_user['duration'] * price_by_user['minute_price'] +\n",
    "                          info_by_user['count'] * price_by_user['start_ride_price'] +\n",
    "                          price_by_user['subscription_fee'])\n",
    "info_by_user['sub_type'] = price_by_user['subscription_type']\n",
    "info_by_user = info_by_user.reset_index()"
   ]
  },
  {
   "cell_type": "code",
   "execution_count": 40,
   "id": "1706525e",
   "metadata": {
    "scrolled": false
   },
   "outputs": [
    {
     "data": {
      "text/html": [
       "<div>\n",
       "<style scoped>\n",
       "    .dataframe tbody tr th:only-of-type {\n",
       "        vertical-align: middle;\n",
       "    }\n",
       "\n",
       "    .dataframe tbody tr th {\n",
       "        vertical-align: top;\n",
       "    }\n",
       "\n",
       "    .dataframe thead th {\n",
       "        text-align: right;\n",
       "    }\n",
       "</style>\n",
       "<table border=\"1\" class=\"dataframe\">\n",
       "  <thead>\n",
       "    <tr style=\"text-align: right;\">\n",
       "      <th></th>\n",
       "      <th>user_id</th>\n",
       "      <th>month</th>\n",
       "      <th>duration</th>\n",
       "      <th>distance</th>\n",
       "      <th>count</th>\n",
       "      <th>income</th>\n",
       "      <th>sub_type</th>\n",
       "    </tr>\n",
       "  </thead>\n",
       "  <tbody>\n",
       "    <tr>\n",
       "      <th>0</th>\n",
       "      <td>1</td>\n",
       "      <td>1</td>\n",
       "      <td>42.0</td>\n",
       "      <td>7027.511294</td>\n",
       "      <td>2</td>\n",
       "      <td>451.0</td>\n",
       "      <td>ultra</td>\n",
       "    </tr>\n",
       "    <tr>\n",
       "      <th>1</th>\n",
       "      <td>1</td>\n",
       "      <td>4</td>\n",
       "      <td>7.0</td>\n",
       "      <td>754.159807</td>\n",
       "      <td>1</td>\n",
       "      <td>241.0</td>\n",
       "      <td>ultra</td>\n",
       "    </tr>\n",
       "    <tr>\n",
       "      <th>2</th>\n",
       "      <td>1</td>\n",
       "      <td>8</td>\n",
       "      <td>46.0</td>\n",
       "      <td>6723.470560</td>\n",
       "      <td>2</td>\n",
       "      <td>475.0</td>\n",
       "      <td>ultra</td>\n",
       "    </tr>\n",
       "    <tr>\n",
       "      <th>3</th>\n",
       "      <td>1</td>\n",
       "      <td>10</td>\n",
       "      <td>32.0</td>\n",
       "      <td>5809.911100</td>\n",
       "      <td>2</td>\n",
       "      <td>391.0</td>\n",
       "      <td>ultra</td>\n",
       "    </tr>\n",
       "    <tr>\n",
       "      <th>4</th>\n",
       "      <td>1</td>\n",
       "      <td>11</td>\n",
       "      <td>56.0</td>\n",
       "      <td>7003.499363</td>\n",
       "      <td>3</td>\n",
       "      <td>535.0</td>\n",
       "      <td>ultra</td>\n",
       "    </tr>\n",
       "    <tr>\n",
       "      <th>...</th>\n",
       "      <td>...</td>\n",
       "      <td>...</td>\n",
       "      <td>...</td>\n",
       "      <td>...</td>\n",
       "      <td>...</td>\n",
       "      <td>...</td>\n",
       "      <td>...</td>\n",
       "    </tr>\n",
       "    <tr>\n",
       "      <th>11326</th>\n",
       "      <td>1534</td>\n",
       "      <td>6</td>\n",
       "      <td>26.0</td>\n",
       "      <td>3409.468534</td>\n",
       "      <td>2</td>\n",
       "      <td>308.0</td>\n",
       "      <td>free</td>\n",
       "    </tr>\n",
       "    <tr>\n",
       "      <th>11327</th>\n",
       "      <td>1534</td>\n",
       "      <td>8</td>\n",
       "      <td>48.0</td>\n",
       "      <td>7622.453034</td>\n",
       "      <td>2</td>\n",
       "      <td>484.0</td>\n",
       "      <td>free</td>\n",
       "    </tr>\n",
       "    <tr>\n",
       "      <th>11328</th>\n",
       "      <td>1534</td>\n",
       "      <td>9</td>\n",
       "      <td>23.0</td>\n",
       "      <td>4928.173852</td>\n",
       "      <td>1</td>\n",
       "      <td>234.0</td>\n",
       "      <td>free</td>\n",
       "    </tr>\n",
       "    <tr>\n",
       "      <th>11329</th>\n",
       "      <td>1534</td>\n",
       "      <td>11</td>\n",
       "      <td>78.0</td>\n",
       "      <td>13350.015305</td>\n",
       "      <td>4</td>\n",
       "      <td>824.0</td>\n",
       "      <td>free</td>\n",
       "    </tr>\n",
       "    <tr>\n",
       "      <th>11330</th>\n",
       "      <td>1534</td>\n",
       "      <td>12</td>\n",
       "      <td>16.0</td>\n",
       "      <td>2371.711192</td>\n",
       "      <td>1</td>\n",
       "      <td>178.0</td>\n",
       "      <td>free</td>\n",
       "    </tr>\n",
       "  </tbody>\n",
       "</table>\n",
       "<p>11331 rows × 7 columns</p>\n",
       "</div>"
      ],
      "text/plain": [
       "       user_id  month  duration      distance  count  income sub_type\n",
       "0            1      1      42.0   7027.511294      2   451.0    ultra\n",
       "1            1      4       7.0    754.159807      1   241.0    ultra\n",
       "2            1      8      46.0   6723.470560      2   475.0    ultra\n",
       "3            1     10      32.0   5809.911100      2   391.0    ultra\n",
       "4            1     11      56.0   7003.499363      3   535.0    ultra\n",
       "...        ...    ...       ...           ...    ...     ...      ...\n",
       "11326     1534      6      26.0   3409.468534      2   308.0     free\n",
       "11327     1534      8      48.0   7622.453034      2   484.0     free\n",
       "11328     1534      9      23.0   4928.173852      1   234.0     free\n",
       "11329     1534     11      78.0  13350.015305      4   824.0     free\n",
       "11330     1534     12      16.0   2371.711192      1   178.0     free\n",
       "\n",
       "[11331 rows x 7 columns]"
      ]
     },
     "execution_count": 40,
     "metadata": {},
     "output_type": "execute_result"
    }
   ],
   "source": [
    "info_by_user"
   ]
  },
  {
   "cell_type": "markdown",
   "id": "605e96c3",
   "metadata": {},
   "source": [
    "<div class=\"alert alert-block alert-warning\">\n",
    "<b>🔁Комментарий ревьюера:</b> \n",
    "    \n",
    "Формула для расчета выручки верная, но результат получился не совсем верным из-за некорректного округления продолжительности.\n",
    "\n",
    "</div>"
   ]
  },
  {
   "cell_type": "markdown",
   "id": "2ff1f453",
   "metadata": {},
   "source": [
    "<div class=\"alert alert-block alert-success\">\n",
    "<b>✅Комментарий ревьюера 2:</b> Отлично, исправлено!👍 Выручка расчитана верно!  </div>"
   ]
  },
  {
   "cell_type": "markdown",
   "id": "5af76c28",
   "metadata": {},
   "source": [
    "#### Шаг 6. Проверка гипотез"
   ]
  },
  {
   "cell_type": "markdown",
   "id": "cd18f7a8",
   "metadata": {},
   "source": [
    "##### \n",
    "**Нулевая гипотеза: люди с подпиской тратят столько же времени на поездки сколько люди без подписки**\n",
    "\n",
    "**Альтернативная гипотеза: люди с подпиской тратят больше времени времени на поездки**\n",
    "\n",
    "**Уровень значимости: 0.01**\n"
   ]
  },
  {
   "cell_type": "markdown",
   "id": "ec9fe56f",
   "metadata": {},
   "source": [
    "<div class=\"alert alert-block alert-success\">\n",
    "<b>✅Комментарий ревьюера:</b> Здорово, что формулируешь гипотезы перед проверкой!</div>"
   ]
  },
  {
   "cell_type": "markdown",
   "id": "7719253f",
   "metadata": {},
   "source": [
    "<div class=\"alert alert-block alert-warning\">\n",
    "<b>🔁Комментарий ревьюера:</b> \n",
    "    \n",
    "Гипотезы стоит формулировать максимально подробно. \"люди с подпиской тратят столько же времени на поездки\" столько же как и кто? В альтернативной гипотезе аналогично.\n",
    "\n",
    "</div>"
   ]
  },
  {
   "cell_type": "markdown",
   "id": "ad3d9b25",
   "metadata": {},
   "source": [
    "<div class=\"alert alert-block alert-info\">\n",
    "<b>🔄Комментарий студента:</b> \n",
    "Улучшена формулировка гипотезы✔\n",
    "</div>"
   ]
  },
  {
   "cell_type": "markdown",
   "id": "70530326",
   "metadata": {},
   "source": [
    "<div class=\"alert alert-block alert-success\">\n",
    "<b>✅Комментарий ревьюера 2:</b> Отлично, исправлено!👍  </div>"
   ]
  },
  {
   "cell_type": "code",
   "execution_count": 41,
   "id": "97217399",
   "metadata": {
    "scrolled": true
   },
   "outputs": [],
   "source": [
    "pvalue = st.ttest_ind(df_sub['duration'], df_no_sub['duration'], alternative = 'greater').pvalue"
   ]
  },
  {
   "cell_type": "code",
   "execution_count": 42,
   "id": "883c220a",
   "metadata": {},
   "outputs": [
    {
     "name": "stdout",
     "output_type": "stream",
     "text": [
      "Нулевая гипотеза отвергнута\n"
     ]
    }
   ],
   "source": [
    "if pvalue < 0.01:\n",
    "    print('Нулевая гипотеза отвергнута')\n",
    "else:\n",
    "    print('Не можем отвергнуть нулевую гипотезу')"
   ]
  },
  {
   "cell_type": "code",
   "execution_count": 43,
   "id": "e51c8257",
   "metadata": {},
   "outputs": [
    {
     "data": {
      "text/plain": [
       "18.54198516280583"
      ]
     },
     "execution_count": 43,
     "metadata": {},
     "output_type": "execute_result"
    }
   ],
   "source": [
    "df_sub['duration'].mean()"
   ]
  },
  {
   "cell_type": "code",
   "execution_count": 44,
   "id": "b9539f38",
   "metadata": {},
   "outputs": [
    {
     "data": {
      "text/plain": [
       "17.39090929866399"
      ]
     },
     "execution_count": 44,
     "metadata": {},
     "output_type": "execute_result"
    }
   ],
   "source": [
    "df_no_sub['duration'].mean()"
   ]
  },
  {
   "cell_type": "markdown",
   "id": "585b65ce",
   "metadata": {},
   "source": [
    "**Вывод: p-value меньше 0.01 говорит о том, что вероятность получить такие или еще более экстремальные различия при условии, что нулевая гипотеза верна, является очень маленькой. Это позволяет нам отвергнуть нулевую гипотезу. Скорее всего разница есть, и пользватели с подпиской тратят больше времени на поездки. Среднее время поездки с подпиской : 18.5 минут, без подписки : 17.4 минуты**"
   ]
  },
  {
   "cell_type": "markdown",
   "id": "2560d1bc",
   "metadata": {},
   "source": [
    "<div class=\"alert alert-block alert-warning\">\n",
    "<b>🔁Комментарий ревьюера:</b> \n",
    "    \n",
    " - Какая разница есть? Гипотеза ведь односторонняя и вывод должен был соответствующим. Также лучше добавить сравнение p-value и уровень статистической значимости. \n",
    "    \n",
    " - Дополнительно можно вывести средние значения продолжительности поездок для каждой категории пользователей.\n",
    "\n",
    "</div>"
   ]
  },
  {
   "cell_type": "markdown",
   "id": "eed6446c",
   "metadata": {},
   "source": [
    "<div class=\"alert alert-block alert-info\">\n",
    "<b>🔄Комментарий студента:</b> \n",
    "Исправлен вывод, добавлено сравнение pvalue с уровнем значимости, добавлена информация о среднем значении пользователей с подпиской и без✔\n",
    "</div>"
   ]
  },
  {
   "cell_type": "markdown",
   "id": "302fce4d",
   "metadata": {},
   "source": [
    "<div class=\"alert alert-block alert-success\">\n",
    "<b>✅Комментарий ревьюера 2:</b> Отлично, исправлено!👍  </div>"
   ]
  },
  {
   "cell_type": "markdown",
   "id": "a424e8e1",
   "metadata": {},
   "source": [
    "<div class=\"alert alert-block alert-success\">\n",
    "<b>✅Комментарий ревьюера:</b> Результат верный</div>"
   ]
  },
  {
   "cell_type": "markdown",
   "id": "310c6034",
   "metadata": {},
   "source": [
    "##### \n",
    "\n",
    "**Нулевая гипотеза: люди с подпиской в среднем проезжают 3130 метров**\n",
    "\n",
    "**Альтернативная гипотеза: люди с подпиской в среднем проезжают больше 3130 метров**\n",
    "\n",
    "**Уровень значимости: 0.05**\n"
   ]
  },
  {
   "cell_type": "markdown",
   "id": "5a9a4735",
   "metadata": {},
   "source": [
    "<div class=\"alert alert-block alert-warning\">\n",
    "<b>🔁Комментарий ревьюера:</b>\n",
    "\n",
    "Альтернативную гипотезу тут стоит сформулировать о том, что пользователи с подпиской за одну сессию проезжают больше 3130 метров, так при ее принятии или опровержении мы сможем ответить на поставленный в задании вопрос.\n",
    "\n",
    "P.S. Соответственно значение аргумента alternative нужно будет изменить.</div>"
   ]
  },
  {
   "cell_type": "markdown",
   "id": "2d1883a2",
   "metadata": {},
   "source": [
    "<div class=\"alert alert-block alert-info\">\n",
    "<b>🔄Комментарий студента:</b> \n",
    "Изменена альтернативная гипотеза, добавлено сравнение pvalue✔\n",
    "</div>"
   ]
  },
  {
   "cell_type": "markdown",
   "id": "705da186",
   "metadata": {},
   "source": [
    "<div class=\"alert alert-block alert-success\">\n",
    "<b>✅Комментарий ревьюера 2:</b> Отлично, исправлено!👍  </div>"
   ]
  },
  {
   "cell_type": "code",
   "execution_count": 45,
   "id": "10b437dd",
   "metadata": {},
   "outputs": [],
   "source": [
    "pvalue = st.ttest_1samp(df_sub['distance'], 3130, alternative = 'greater').pvalue"
   ]
  },
  {
   "cell_type": "code",
   "execution_count": 46,
   "id": "1a71ae0c",
   "metadata": {},
   "outputs": [
    {
     "name": "stdout",
     "output_type": "stream",
     "text": [
      "Не можем отвергнуть нулевую гипотезу\n"
     ]
    }
   ],
   "source": [
    "if pvalue < 0.05:\n",
    "    print('Нулевая гипотеза отвергнута')\n",
    "else:\n",
    "    print('Не можем отвергнуть нулевую гипотезу')"
   ]
  },
  {
   "cell_type": "markdown",
   "id": "64adc049",
   "metadata": {},
   "source": [
    "**Вывод: на основании имеющихся данных и выбранного уровня значимости, мы не можем статистически отвергнуть нулевую гипотезу**"
   ]
  },
  {
   "cell_type": "markdown",
   "id": "c93788de",
   "metadata": {},
   "source": [
    "##### \n",
    "\n",
    "**Нулевая гипотеза: люди с подпиской приносят столько же дохода сколько люди без подписки**\n",
    "\n",
    "**Альтернативная гипотеза: люди с подпиской приносят больше дохода**\n",
    "\n",
    "**Уровень значимости: 0.05**\n"
   ]
  },
  {
   "cell_type": "code",
   "execution_count": 47,
   "id": "2fca3bae",
   "metadata": {
    "scrolled": true
   },
   "outputs": [],
   "source": [
    "sub_income = info_by_user.query('sub_type == \"ultra\"')['income']\n",
    "no_sub_income = info_by_user.query('sub_type == \"free\"')['income']\n",
    "pvalue = st.ttest_ind(sub_income, no_sub_income, alternative = 'greater').pvalue"
   ]
  },
  {
   "cell_type": "code",
   "execution_count": 48,
   "id": "2a2d4c7a",
   "metadata": {},
   "outputs": [
    {
     "name": "stdout",
     "output_type": "stream",
     "text": [
      "Нулевая гипотеза отвергнута\n"
     ]
    }
   ],
   "source": [
    "if pvalue < 0.05:\n",
    "    print('Нулевая гипотеза отвергнута')\n",
    "else:\n",
    "    print('Не можем отвергнуть нулевую гипотезу')"
   ]
  },
  {
   "cell_type": "markdown",
   "id": "b8f3883d",
   "metadata": {
    "id": "5766e785"
   },
   "source": [
    "<div class=\"alert alert-block alert-danger\">\n",
    "<b>❌Комментарий ревьюера:</b> \n",
    "    \n",
    "А для чего тут цикл? Нам необходимо сравнить две выборки **всех выручек**, не разделяя их по месяцам, иначе выборки получаются слишком маленькими.</div>"
   ]
  },
  {
   "cell_type": "markdown",
   "id": "1b313abe",
   "metadata": {},
   "source": [
    "<div class=\"alert alert-block alert-info\">\n",
    "<b>🔄Комментарий студента:</b> \n",
    "Убран цикл, добавлено сравнение pvalue с уровнем значимости, изменен вывод✔\n",
    "</div>"
   ]
  },
  {
   "cell_type": "markdown",
   "id": "1421eea6",
   "metadata": {},
   "source": [
    "<div class=\"alert alert-block alert-success\">\n",
    "<b>✅Комментарий ревьюера 2:</b> Отлично, исправлено!👍  </div>"
   ]
  },
  {
   "cell_type": "markdown",
   "id": "a95e2aa3",
   "metadata": {},
   "source": [
    "**Вывод: Нулевая гипотеза отвергнута для уровня значимости 0.05, скорее всего люди с подпиской приносят больше дохода на основе данных**"
   ]
  },
  {
   "cell_type": "markdown",
   "id": "13096066",
   "metadata": {},
   "source": [
    "##### \n",
    "Техническая команда сервиса обновила сервера, с которыми взаимодействует мобильное приложение. Она надеется, что из-за этого количество обращений в техподдержку значимо снизилось. Некоторый файл содержит для каждого пользователя данные о количестве обращений до обновления и после него. Какой тест понадобится для проверки этой гипотезы?"
   ]
  },
  {
   "cell_type": "markdown",
   "id": "071ac3b6",
   "metadata": {},
   "source": [
    "**В данном случае подходит парный t-тест. Этот тест используется, когда у нас есть две выборки и эти выборки связаны между собой. В нашем случае у нас есть одна и та же группа пользователей до и после обновления сервера, и мы хотим сравнить количество обращений в техподдержку в эти два периода.**\n",
    "\n",
    "Функция из `scipy.stats`:\n",
    "\n",
    "```py\n",
    "scipy.stats.ttest_rel(before, after)\n",
    "```"
   ]
  },
  {
   "cell_type": "markdown",
   "id": "5f3432f9",
   "metadata": {},
   "source": [
    "<div class=\"alert alert-block alert-warning\">\n",
    "<b>🔁Комментарий ревьюера:</b>\n",
    "\n",
    "Стоит полностью сформулировать вопрос, чтобы читатель понимал о чем идет речь.</div>"
   ]
  },
  {
   "cell_type": "markdown",
   "id": "d566405b",
   "metadata": {},
   "source": [
    "<div class=\"alert alert-block alert-success\">\n",
    "<b>✅Комментарий ревьюера 2:</b> Отлично, исправлено!👍  </div>"
   ]
  },
  {
   "cell_type": "markdown",
   "id": "d41d8d46",
   "metadata": {
    "id": "5766e785"
   },
   "source": [
    "<div class=\"alert alert-block alert-danger\">\n",
    "<b>❌Комментарий ревьюера:</b> \n",
    "    \n",
    "Выборки действительно связаны между собой. Какой метод нужно будет применить для проверки гипотезы?\n",
    "</div>"
   ]
  },
  {
   "cell_type": "markdown",
   "id": "d750bdf2",
   "metadata": {},
   "source": [
    "<div class=\"alert alert-block alert-success\">\n",
    "<b>✅Комментарий ревьюера 2:</b> Отлично, исправлено!👍  </div>"
   ]
  },
  {
   "cell_type": "markdown",
   "id": "9c15eaef",
   "metadata": {},
   "source": [
    "#### Шаг 7. Распределения"
   ]
  },
  {
   "cell_type": "markdown",
   "id": "4880c24e",
   "metadata": {},
   "source": [
    "Для решения данной задачи можно использовать биномиальное распределение. В данном случае, успешным испытанием будет являться продление подписки после бесплатного пробного периода, а вероятность успешного испытания будет составлять 0.1 (10% пользователей продлевают подписку).\n",
    "\n",
    "Пусть X - количество успешных продлений подписки из N рассылаемых промокодов. Тогда X имеет биномиальное распределение с параметрами N (количество промокодов) и p (вероятность успешного продления подписки).\n",
    "\n",
    "Мы хотим найти такое минимальное значение N, при котором вероятность не выполнить план (т.е., чтобы количество успешных продлений было меньше 100) составляет примерно 5%.\n",
    "\n",
    "Вероятность не выполнить план можно выразить следующим образом:\n",
    "P(X < 100) ≤ 0.05"
   ]
  },
  {
   "cell_type": "code",
   "execution_count": 49,
   "id": "1f155626",
   "metadata": {},
   "outputs": [],
   "source": [
    "def get_min(p, total, target):\n",
    "    n = 1\n",
    "    while n:\n",
    "        prob = st.binom.cdf(total, n, p)\n",
    "        if prob < target:\n",
    "            return n\n",
    "        n += 1"
   ]
  },
  {
   "cell_type": "code",
   "execution_count": 50,
   "id": "62150e42",
   "metadata": {
    "scrolled": true
   },
   "outputs": [
    {
     "name": "stdout",
     "output_type": "stream",
     "text": [
      "Минимальное N: 1172\n"
     ]
    },
    {
     "data": {
      "image/png": "[encoded data removed]",
      "text/plain": [
       "<Figure size 432x288 with 1 Axes>"
      ]
     },
     "metadata": {
      "needs_background": "light"
     },
     "output_type": "display_data"
    }
   ],
   "source": [
    "p = 0.1\n",
    "target_prob = 0.05\n",
    "total = 100\n",
    "\n",
    "min_n = get_min(p,total,target_prob)\n",
    "print('Минимальное N:', min_n)\n",
    "\n",
    "plt.plot(range(min_n+1000), st.binom.cdf(total, range(min_n+1000), p))\n",
    "plt.scatter(min_n, st.binom.cdf(total, min_n, p))\n",
    "plt.xlabel('Количество промокодов (N)')\n",
    "plt.ylabel('Вероятность (P(X < 100))')\n",
    "plt.title('График распределения биномиальной случайной величины')\n",
    "plt.grid(True)\n",
    "plt.show()\n",
    "\n"
   ]
  },
  {
   "cell_type": "markdown",
   "id": "f1f8fa66",
   "metadata": {},
   "source": [
    "<div class=\"alert alert-block alert-success\">\n",
    "<b>✅Комментарий ревьюера:</b> \n",
    "\n",
    "Все верно, молодец!</div>"
   ]
  },
  {
   "cell_type": "markdown",
   "id": "d46d93ba",
   "metadata": {},
   "source": [
    "**Общий вывод:**\n",
    "\n",
    "1. Обзор данных: пропущенных значений нет, аномалий нет, проблем с типами нет\n",
    "\n",
    "2. Предобработка данных: привели столбец `date` к типу даты pandas, создали новый столбец `month` который отображает месяц поездки, удалили явные дубликаты в `users`\n",
    "\n",
    "3. Исследовательский анализ данных\n",
    "\n",
    "    3.1 Меньше всего поездок в Москве, больше всего в Пятигорске.\n",
    "    \n",
    "    3.2 Пользователей без подписки больше.\n",
    "    \n",
    "    3.3 Возраст пользователей имеет нормальное распределние, среднее 25 лет\n",
    "    \n",
    "    3.4 Средняя длина поездки близка к нормальному распределению, среднее расстояние 3100 метров.\n",
    "    \n",
    "    3.5 Длительность поездки имеет нормальное распределение, среднее время 17.5 минут\n",
    "\n",
    "4. Обьединение данных:\n",
    "\n",
    "    4.1 Обьединили все данные в один датафрейм, создали два датафрейма для пользователей с подпиской и без подписки.\n",
    "    \n",
    "    4.2 Визуализировали данные о расстоянии и длитетльности поездок для каждой категории. Средняя длина пути у пользователей с подпиской и без почти не отличается. Длительность поездки у пользователей с подпиской в среднем на 1 минуту больше чем у пользователей без подписки.\n",
    "\n",
    "\n",
    "5. Подсчет выручки: сгрупировали данные по `user_id` и `month` и посчитали выручку для каждого пользователя за каждый месяц.\n",
    "\n",
    "\n",
    "6. Проверка гипотез:\n",
    "\n",
    "    6.1 Нулевая гипотеза отвергнута, скорее всего пользователи с подпиской более 'выгоднее'.\n",
    "\n",
    "    6.2 Не можем отвергнуть нулевую гипотезу, о расстоянии которое проезжают пользователи с подпиской равное 3130 метрам.\n",
    "    \n",
    "    6.3 Нулевая гипотеза отвергнута, скорее всего пользователи с подпиской приносят больше выручки\n",
    "    \n",
    "    6.4 Парный t-test для зависимых выборок. Функция из `scipy.stats`: `scipy.stats.ttest_rel(before, after)`.\n",
    "    \n",
    "    \n",
    "7. Минимальное количество промокодов : 1172"
   ]
  },
  {
   "cell_type": "markdown",
   "id": "4001766d",
   "metadata": {},
   "source": [
    "<div class=\"alert alert-block alert-success\">\n",
    "<b>✅Комментарий ревьюера:</b> \n",
    "\n",
    "\n",
    "Хороший резюмирующий вывод.\n",
    "    \n",
    "    \n",
    "**Хочу обратить твое внимание на то, что после исправления замечаний в некоторых пунктах исследования могут измениться результаты, поэтому нужно будет подкорректировать выводы.**\n",
    "</div>"
   ]
  }
 ],
 "metadata": {
  "ExecuteTimeLog": [
   {
    "duration": 55,
    "start_time": "2023-06-02T17:41:44.066Z"
   },
   {
    "duration": 391,
    "start_time": "2023-06-02T17:41:46.774Z"
   },
   {
    "duration": 195,
    "start_time": "2023-06-02T17:41:48.258Z"
   },
   {
    "duration": 20,
    "start_time": "2023-06-02T17:41:51.953Z"
   },
   {
    "duration": 12,
    "start_time": "2023-06-02T17:41:55.360Z"
   },
   {
    "duration": 7,
    "start_time": "2023-06-02T17:42:02.526Z"
   },
   {
    "duration": 9,
    "start_time": "2023-06-02T17:42:21.199Z"
   },
   {
    "duration": 9,
    "start_time": "2023-06-02T17:42:26.900Z"
   },
   {
    "duration": 7,
    "start_time": "2023-06-02T17:42:35.711Z"
   },
   {
    "duration": 13,
    "start_time": "2023-06-02T17:42:55.342Z"
   },
   {
    "duration": 12,
    "start_time": "2023-06-02T17:43:04.440Z"
   },
   {
    "duration": 9,
    "start_time": "2023-06-02T17:45:15.272Z"
   },
   {
    "duration": 5,
    "start_time": "2023-06-02T17:45:34.639Z"
   },
   {
    "duration": 10,
    "start_time": "2023-06-02T17:45:45.615Z"
   },
   {
    "duration": 11,
    "start_time": "2023-06-02T17:45:57.550Z"
   },
   {
    "duration": 6,
    "start_time": "2023-06-02T17:46:06.861Z"
   },
   {
    "duration": 6,
    "start_time": "2023-06-02T17:46:09.139Z"
   },
   {
    "duration": 6,
    "start_time": "2023-06-02T17:46:13.160Z"
   },
   {
    "duration": 15,
    "start_time": "2023-06-02T17:47:04.694Z"
   },
   {
    "duration": 14,
    "start_time": "2023-06-02T17:47:11.982Z"
   },
   {
    "duration": 627,
    "start_time": "2023-06-02T17:47:30.071Z"
   },
   {
    "duration": 147,
    "start_time": "2023-06-02T17:47:39.756Z"
   },
   {
    "duration": 137,
    "start_time": "2023-06-02T17:47:49.475Z"
   },
   {
    "duration": 6,
    "start_time": "2023-06-02T17:47:59.814Z"
   },
   {
    "duration": 6,
    "start_time": "2023-06-02T17:48:04.480Z"
   },
   {
    "duration": 51,
    "start_time": "2023-06-02T17:49:09.313Z"
   },
   {
    "duration": 8,
    "start_time": "2023-06-02T17:49:20.656Z"
   },
   {
    "duration": 20,
    "start_time": "2023-06-02T17:49:26.491Z"
   },
   {
    "duration": 12,
    "start_time": "2023-06-02T17:49:55.999Z"
   },
   {
    "duration": 14,
    "start_time": "2023-06-02T17:50:01.812Z"
   },
   {
    "duration": 19,
    "start_time": "2023-06-02T17:50:10.942Z"
   },
   {
    "duration": 472,
    "start_time": "2023-06-02T17:50:26.989Z"
   },
   {
    "duration": 28,
    "start_time": "2023-06-02T17:50:42.475Z"
   },
   {
    "duration": 188,
    "start_time": "2023-06-02T17:50:51.629Z"
   },
   {
    "duration": 142,
    "start_time": "2023-06-02T17:51:25.074Z"
   },
   {
    "duration": 329,
    "start_time": "2023-06-02T17:51:31.690Z"
   },
   {
    "duration": 16,
    "start_time": "2023-06-02T17:51:43.271Z"
   },
   {
    "duration": 18,
    "start_time": "2023-06-02T17:51:47.112Z"
   },
   {
    "duration": 124,
    "start_time": "2023-06-02T17:52:05.792Z"
   },
   {
    "duration": 120,
    "start_time": "2023-06-02T17:52:45.057Z"
   },
   {
    "duration": 17,
    "start_time": "2023-06-02T17:53:31.105Z"
   },
   {
    "duration": 285,
    "start_time": "2023-06-02T17:53:42.645Z"
   },
   {
    "duration": 315,
    "start_time": "2023-06-02T17:54:02.168Z"
   },
   {
    "duration": 270,
    "start_time": "2023-06-02T17:54:09.640Z"
   },
   {
    "duration": 13,
    "start_time": "2023-06-02T17:54:59.834Z"
   },
   {
    "duration": 24,
    "start_time": "2023-06-02T17:55:03.905Z"
   },
   {
    "duration": 14,
    "start_time": "2023-06-02T17:56:07.244Z"
   },
   {
    "duration": 17,
    "start_time": "2023-06-02T17:56:11.341Z"
   },
   {
    "duration": 173,
    "start_time": "2023-06-02T17:56:19.044Z"
   },
   {
    "duration": 14,
    "start_time": "2023-06-02T17:57:21.920Z"
   },
   {
    "duration": 164,
    "start_time": "2023-06-02T17:57:29.049Z"
   },
   {
    "duration": 264,
    "start_time": "2023-06-02T17:58:55.620Z"
   },
   {
    "duration": 148,
    "start_time": "2023-06-02T17:59:27.944Z"
   },
   {
    "duration": 140,
    "start_time": "2023-06-02T18:00:01.081Z"
   },
   {
    "duration": 11,
    "start_time": "2023-06-02T18:00:45.627Z"
   },
   {
    "duration": 8,
    "start_time": "2023-06-02T18:00:55.251Z"
   },
   {
    "duration": 9,
    "start_time": "2023-06-02T18:01:13.267Z"
   },
   {
    "duration": 34,
    "start_time": "2023-06-02T18:01:50.676Z"
   },
   {
    "duration": 18,
    "start_time": "2023-06-02T18:02:14.776Z"
   },
   {
    "duration": 29,
    "start_time": "2023-06-02T18:03:24.906Z"
   },
   {
    "duration": 20,
    "start_time": "2023-06-02T18:03:36.445Z"
   },
   {
    "duration": 27,
    "start_time": "2023-06-02T18:03:55.397Z"
   },
   {
    "duration": 5,
    "start_time": "2023-06-02T18:04:11.238Z"
   },
   {
    "duration": 15,
    "start_time": "2023-06-02T18:04:25.236Z"
   },
   {
    "duration": 12,
    "start_time": "2023-06-02T18:04:55.488Z"
   },
   {
    "duration": 437,
    "start_time": "2023-06-02T18:04:59.811Z"
   },
   {
    "duration": 225,
    "start_time": "2023-06-02T18:05:04.216Z"
   },
   {
    "duration": 254,
    "start_time": "2023-06-02T18:06:01.838Z"
   },
   {
    "duration": 8617,
    "start_time": "2023-06-02T18:06:12.537Z"
   },
   {
    "duration": 224,
    "start_time": "2023-06-02T18:06:31.003Z"
   },
   {
    "duration": 257,
    "start_time": "2023-06-02T18:08:07.089Z"
   },
   {
    "duration": 240,
    "start_time": "2023-06-02T18:08:33.144Z"
   },
   {
    "duration": 235,
    "start_time": "2023-06-02T18:10:45.366Z"
   },
   {
    "duration": 5,
    "start_time": "2023-06-02T18:14:47.947Z"
   },
   {
    "duration": 5,
    "start_time": "2023-06-02T18:14:53.924Z"
   },
   {
    "duration": 5,
    "start_time": "2023-06-02T18:15:04.414Z"
   },
   {
    "duration": 5,
    "start_time": "2023-06-02T18:15:05.221Z"
   },
   {
    "duration": 6,
    "start_time": "2023-06-02T18:15:24.311Z"
   },
   {
    "duration": 6,
    "start_time": "2023-06-02T18:15:27.254Z"
   },
   {
    "duration": 6,
    "start_time": "2023-06-02T18:15:45.174Z"
   },
   {
    "duration": 6,
    "start_time": "2023-06-02T18:15:52.664Z"
   },
   {
    "duration": 4,
    "start_time": "2023-06-02T18:23:50.073Z"
   },
   {
    "duration": 7,
    "start_time": "2023-06-02T18:24:22.136Z"
   },
   {
    "duration": 81,
    "start_time": "2023-06-02T18:25:16.139Z"
   },
   {
    "duration": 24,
    "start_time": "2023-06-02T18:25:22.067Z"
   },
   {
    "duration": 17,
    "start_time": "2023-06-02T18:25:31.820Z"
   },
   {
    "duration": 17,
    "start_time": "2023-06-02T18:25:55.895Z"
   },
   {
    "duration": 21,
    "start_time": "2023-06-02T18:26:19.047Z"
   },
   {
    "duration": 17,
    "start_time": "2023-06-02T18:26:38.511Z"
   },
   {
    "duration": 21,
    "start_time": "2023-06-02T18:26:43.422Z"
   },
   {
    "duration": 16,
    "start_time": "2023-06-02T18:27:00.692Z"
   },
   {
    "duration": 14,
    "start_time": "2023-06-02T18:27:00.879Z"
   },
   {
    "duration": 14,
    "start_time": "2023-06-02T18:27:23.011Z"
   },
   {
    "duration": 6,
    "start_time": "2023-06-02T18:27:30.716Z"
   },
   {
    "duration": 16,
    "start_time": "2023-06-02T18:27:50.273Z"
   },
   {
    "duration": 12,
    "start_time": "2023-06-02T18:29:32.237Z"
   },
   {
    "duration": 15,
    "start_time": "2023-06-02T18:29:42.619Z"
   },
   {
    "duration": 5,
    "start_time": "2023-06-02T18:29:50.147Z"
   },
   {
    "duration": 21,
    "start_time": "2023-06-02T18:30:21.458Z"
   },
   {
    "duration": 12,
    "start_time": "2023-06-02T18:30:52.062Z"
   },
   {
    "duration": 19,
    "start_time": "2023-06-02T18:32:19.740Z"
   },
   {
    "duration": 15,
    "start_time": "2023-06-02T18:32:39.665Z"
   },
   {
    "duration": 17,
    "start_time": "2023-06-02T18:32:58.874Z"
   },
   {
    "duration": 77,
    "start_time": "2023-06-02T18:33:22.691Z"
   },
   {
    "duration": 116,
    "start_time": "2023-06-02T18:33:27.317Z"
   },
   {
    "duration": 81,
    "start_time": "2023-06-02T18:33:33.614Z"
   },
   {
    "duration": 18,
    "start_time": "2023-06-02T18:33:38.101Z"
   },
   {
    "duration": 16,
    "start_time": "2023-06-02T18:33:44.669Z"
   },
   {
    "duration": 3,
    "start_time": "2023-06-02T18:34:05.946Z"
   },
   {
    "duration": 22,
    "start_time": "2023-06-02T18:34:12.574Z"
   },
   {
    "duration": 17,
    "start_time": "2023-06-02T18:34:20.670Z"
   },
   {
    "duration": 17,
    "start_time": "2023-06-02T18:34:24.899Z"
   },
   {
    "duration": 98,
    "start_time": "2023-06-02T18:34:56.256Z"
   },
   {
    "duration": 8,
    "start_time": "2023-06-02T18:35:00.049Z"
   },
   {
    "duration": 13,
    "start_time": "2023-06-02T18:35:04.137Z"
   },
   {
    "duration": 8,
    "start_time": "2023-06-02T18:35:08.137Z"
   },
   {
    "duration": 11,
    "start_time": "2023-06-02T18:35:10.693Z"
   },
   {
    "duration": 5,
    "start_time": "2023-06-02T18:35:29.065Z"
   },
   {
    "duration": 30,
    "start_time": "2023-06-02T18:35:49.350Z"
   },
   {
    "duration": 12,
    "start_time": "2023-06-02T18:36:01.510Z"
   },
   {
    "duration": 29,
    "start_time": "2023-06-02T18:36:03.390Z"
   },
   {
    "duration": 3,
    "start_time": "2023-06-02T18:36:28.792Z"
   },
   {
    "duration": 14,
    "start_time": "2023-06-02T18:36:33.424Z"
   },
   {
    "duration": 11,
    "start_time": "2023-06-02T18:36:41.676Z"
   },
   {
    "duration": 15,
    "start_time": "2023-06-02T18:36:53.485Z"
   },
   {
    "duration": 4,
    "start_time": "2023-06-02T18:37:00.237Z"
   },
   {
    "duration": 14,
    "start_time": "2023-06-02T18:37:03.900Z"
   },
   {
    "duration": 9,
    "start_time": "2023-06-02T18:37:41.458Z"
   },
   {
    "duration": 15,
    "start_time": "2023-06-02T18:37:42.973Z"
   },
   {
    "duration": 14,
    "start_time": "2023-06-02T18:38:48.521Z"
   },
   {
    "duration": 689,
    "start_time": "2023-06-02T18:39:12.908Z"
   },
   {
    "duration": 13,
    "start_time": "2023-06-02T18:39:27.986Z"
   },
   {
    "duration": 4,
    "start_time": "2023-06-02T18:39:28.974Z"
   },
   {
    "duration": 15,
    "start_time": "2023-06-02T18:39:30.114Z"
   },
   {
    "duration": 13,
    "start_time": "2023-06-02T18:39:32.245Z"
   },
   {
    "duration": 11,
    "start_time": "2023-06-02T18:39:56.141Z"
   },
   {
    "duration": 10,
    "start_time": "2023-06-02T18:39:56.807Z"
   },
   {
    "duration": 10,
    "start_time": "2023-06-02T18:40:10.199Z"
   },
   {
    "duration": 3,
    "start_time": "2023-06-02T18:40:20.249Z"
   },
   {
    "duration": 11,
    "start_time": "2023-06-02T18:40:28.009Z"
   },
   {
    "duration": 4,
    "start_time": "2023-06-02T18:40:28.705Z"
   },
   {
    "duration": 15,
    "start_time": "2023-06-02T18:40:30.915Z"
   },
   {
    "duration": 12,
    "start_time": "2023-06-02T18:40:34.764Z"
   },
   {
    "duration": 8,
    "start_time": "2023-06-02T18:40:38.404Z"
   },
   {
    "duration": 12,
    "start_time": "2023-06-02T18:40:39.196Z"
   },
   {
    "duration": 10,
    "start_time": "2023-06-02T18:41:30.418Z"
   },
   {
    "duration": 8,
    "start_time": "2023-06-02T18:43:50.732Z"
   },
   {
    "duration": 7,
    "start_time": "2023-06-02T18:43:58.846Z"
   },
   {
    "duration": 19,
    "start_time": "2023-06-02T18:44:04.625Z"
   },
   {
    "duration": 424,
    "start_time": "2023-06-02T18:44:53.347Z"
   },
   {
    "duration": 68,
    "start_time": "2023-06-02T18:44:53.773Z"
   },
   {
    "duration": 17,
    "start_time": "2023-06-02T18:44:53.843Z"
   },
   {
    "duration": 12,
    "start_time": "2023-06-02T18:44:53.862Z"
   },
   {
    "duration": 33,
    "start_time": "2023-06-02T18:44:53.876Z"
   },
   {
    "duration": 31,
    "start_time": "2023-06-02T18:44:53.910Z"
   },
   {
    "duration": 20,
    "start_time": "2023-06-02T18:44:53.943Z"
   },
   {
    "duration": 19,
    "start_time": "2023-06-02T18:44:53.965Z"
   },
   {
    "duration": 23,
    "start_time": "2023-06-02T18:44:53.985Z"
   },
   {
    "duration": 445,
    "start_time": "2023-06-02T18:44:54.010Z"
   },
   {
    "duration": 154,
    "start_time": "2023-06-02T18:44:54.457Z"
   },
   {
    "duration": 285,
    "start_time": "2023-06-02T18:44:54.613Z"
   },
   {
    "duration": 170,
    "start_time": "2023-06-02T18:44:54.900Z"
   },
   {
    "duration": 167,
    "start_time": "2023-06-02T18:44:55.072Z"
   },
   {
    "duration": 21,
    "start_time": "2023-06-02T18:44:55.240Z"
   },
   {
    "duration": 15,
    "start_time": "2023-06-02T18:44:55.263Z"
   },
   {
    "duration": 312,
    "start_time": "2023-06-02T18:44:55.280Z"
   },
   {
    "duration": 273,
    "start_time": "2023-06-02T18:44:55.594Z"
   },
   {
    "duration": 5,
    "start_time": "2023-06-02T18:44:55.869Z"
   },
   {
    "duration": 28,
    "start_time": "2023-06-02T18:44:55.876Z"
   },
   {
    "duration": 10,
    "start_time": "2023-06-02T18:44:55.906Z"
   },
   {
    "duration": 14,
    "start_time": "2023-06-02T18:44:55.918Z"
   },
   {
    "duration": 20,
    "start_time": "2023-06-02T18:44:55.933Z"
   },
   {
    "duration": 6,
    "start_time": "2023-06-02T18:44:55.954Z"
   },
   {
    "duration": 37,
    "start_time": "2023-06-02T18:44:55.961Z"
   },
   {
    "duration": 9,
    "start_time": "2023-06-02T18:44:56.000Z"
   },
   {
    "duration": 19,
    "start_time": "2023-06-02T18:45:21.949Z"
   },
   {
    "duration": 5,
    "start_time": "2023-06-02T18:45:40.220Z"
   },
   {
    "duration": 75,
    "start_time": "2023-06-02T18:46:44.484Z"
   },
   {
    "duration": 22,
    "start_time": "2023-06-02T18:46:46.298Z"
   },
   {
    "duration": 18,
    "start_time": "2023-06-02T18:47:16.228Z"
   },
   {
    "duration": 16,
    "start_time": "2023-06-02T18:49:56.362Z"
   },
   {
    "duration": 8,
    "start_time": "2023-06-02T18:50:22.730Z"
   },
   {
    "duration": 17,
    "start_time": "2023-06-02T18:50:23.611Z"
   },
   {
    "duration": 21,
    "start_time": "2023-06-02T18:51:05.634Z"
   },
   {
    "duration": 416,
    "start_time": "2023-06-02T18:51:21.288Z"
   },
   {
    "duration": 58,
    "start_time": "2023-06-02T18:51:28.493Z"
   },
   {
    "duration": 12,
    "start_time": "2023-06-02T18:52:53.867Z"
   },
   {
    "duration": 162,
    "start_time": "2023-06-02T18:52:57.578Z"
   },
   {
    "duration": 7,
    "start_time": "2023-06-02T18:53:21.078Z"
   },
   {
    "duration": 6,
    "start_time": "2023-06-02T18:53:27.359Z"
   },
   {
    "duration": 6,
    "start_time": "2023-06-02T18:55:54.456Z"
   },
   {
    "duration": 8,
    "start_time": "2023-06-02T19:02:09.896Z"
   },
   {
    "duration": 6,
    "start_time": "2023-06-02T19:02:25.314Z"
   },
   {
    "duration": 1339,
    "start_time": "2023-06-02T19:07:32.535Z"
   },
   {
    "duration": 8,
    "start_time": "2023-06-02T19:07:52.953Z"
   },
   {
    "duration": 9,
    "start_time": "2023-06-02T19:07:58.186Z"
   },
   {
    "duration": 17,
    "start_time": "2023-06-02T19:08:08.312Z"
   },
   {
    "duration": 13,
    "start_time": "2023-06-02T19:08:35.157Z"
   },
   {
    "duration": 12,
    "start_time": "2023-06-02T19:08:52.819Z"
   },
   {
    "duration": 16,
    "start_time": "2023-06-02T19:09:04.555Z"
   },
   {
    "duration": 18,
    "start_time": "2023-06-02T19:09:44.939Z"
   },
   {
    "duration": 422,
    "start_time": "2023-06-02T19:10:00.648Z"
   },
   {
    "duration": 69,
    "start_time": "2023-06-02T19:10:01.072Z"
   },
   {
    "duration": 16,
    "start_time": "2023-06-02T19:10:01.143Z"
   },
   {
    "duration": 48,
    "start_time": "2023-06-02T19:10:01.161Z"
   },
   {
    "duration": 53,
    "start_time": "2023-06-02T19:10:01.211Z"
   },
   {
    "duration": 66,
    "start_time": "2023-06-02T19:10:01.266Z"
   },
   {
    "duration": 81,
    "start_time": "2023-06-02T19:10:01.334Z"
   },
   {
    "duration": 45,
    "start_time": "2023-06-02T19:10:01.417Z"
   },
   {
    "duration": 82,
    "start_time": "2023-06-02T19:10:01.464Z"
   },
   {
    "duration": 507,
    "start_time": "2023-06-02T19:10:01.548Z"
   },
   {
    "duration": 156,
    "start_time": "2023-06-02T19:10:02.057Z"
   },
   {
    "duration": 291,
    "start_time": "2023-06-02T19:10:02.214Z"
   },
   {
    "duration": 202,
    "start_time": "2023-06-02T19:10:02.507Z"
   },
   {
    "duration": 182,
    "start_time": "2023-06-02T19:10:02.713Z"
   },
   {
    "duration": 18,
    "start_time": "2023-06-02T19:10:02.897Z"
   },
   {
    "duration": 44,
    "start_time": "2023-06-02T19:10:02.917Z"
   },
   {
    "duration": 321,
    "start_time": "2023-06-02T19:10:02.964Z"
   },
   {
    "duration": 258,
    "start_time": "2023-06-02T19:10:03.287Z"
   },
   {
    "duration": 5,
    "start_time": "2023-06-02T19:10:03.547Z"
   },
   {
    "duration": 21,
    "start_time": "2023-06-02T19:10:03.554Z"
   },
   {
    "duration": 27,
    "start_time": "2023-06-02T19:10:03.576Z"
   },
   {
    "duration": 25,
    "start_time": "2023-06-02T19:10:03.605Z"
   },
   {
    "duration": 46,
    "start_time": "2023-06-02T19:10:03.632Z"
   },
   {
    "duration": 41,
    "start_time": "2023-06-02T19:10:03.680Z"
   },
   {
    "duration": 70,
    "start_time": "2023-06-02T19:10:03.723Z"
   },
   {
    "duration": 1896,
    "start_time": "2023-06-02T19:10:03.794Z"
   },
   {
    "duration": 0,
    "start_time": "2023-06-02T19:10:05.692Z"
   },
   {
    "duration": 12,
    "start_time": "2023-06-02T19:10:30.197Z"
   },
   {
    "duration": 10,
    "start_time": "2023-06-02T19:10:58.430Z"
   },
   {
    "duration": 452,
    "start_time": "2023-06-02T19:11:03.226Z"
   },
   {
    "duration": 68,
    "start_time": "2023-06-02T19:11:03.681Z"
   },
   {
    "duration": 15,
    "start_time": "2023-06-02T19:11:03.751Z"
   },
   {
    "duration": 18,
    "start_time": "2023-06-02T19:11:03.768Z"
   },
   {
    "duration": 31,
    "start_time": "2023-06-02T19:11:03.789Z"
   },
   {
    "duration": 36,
    "start_time": "2023-06-02T19:11:03.822Z"
   },
   {
    "duration": 27,
    "start_time": "2023-06-02T19:11:03.859Z"
   },
   {
    "duration": 30,
    "start_time": "2023-06-02T19:11:03.888Z"
   },
   {
    "duration": 25,
    "start_time": "2023-06-02T19:11:03.919Z"
   },
   {
    "duration": 402,
    "start_time": "2023-06-02T19:11:03.946Z"
   },
   {
    "duration": 162,
    "start_time": "2023-06-02T19:11:04.350Z"
   },
   {
    "duration": 294,
    "start_time": "2023-06-02T19:11:04.514Z"
   },
   {
    "duration": 167,
    "start_time": "2023-06-02T19:11:04.810Z"
   },
   {
    "duration": 170,
    "start_time": "2023-06-02T19:11:04.980Z"
   },
   {
    "duration": 17,
    "start_time": "2023-06-02T19:11:05.151Z"
   },
   {
    "duration": 26,
    "start_time": "2023-06-02T19:11:05.170Z"
   },
   {
    "duration": 327,
    "start_time": "2023-06-02T19:11:05.197Z"
   },
   {
    "duration": 271,
    "start_time": "2023-06-02T19:11:05.525Z"
   },
   {
    "duration": 5,
    "start_time": "2023-06-02T19:11:05.798Z"
   },
   {
    "duration": 16,
    "start_time": "2023-06-02T19:11:05.805Z"
   },
   {
    "duration": 9,
    "start_time": "2023-06-02T19:11:05.823Z"
   },
   {
    "duration": 24,
    "start_time": "2023-06-02T19:11:05.833Z"
   },
   {
    "duration": 12,
    "start_time": "2023-06-02T19:11:05.859Z"
   },
   {
    "duration": 4,
    "start_time": "2023-06-02T19:11:05.873Z"
   },
   {
    "duration": 15,
    "start_time": "2023-06-02T19:11:05.879Z"
   },
   {
    "duration": 10,
    "start_time": "2023-06-02T19:11:06.372Z"
   },
   {
    "duration": 20,
    "start_time": "2023-06-02T19:11:08.132Z"
   },
   {
    "duration": 390,
    "start_time": "2023-06-02T19:11:14.278Z"
   },
   {
    "duration": 6,
    "start_time": "2023-06-02T19:11:15.948Z"
   },
   {
    "duration": 6,
    "start_time": "2023-06-02T19:11:18.962Z"
   },
   {
    "duration": 19,
    "start_time": "2023-06-02T19:12:05.334Z"
   },
   {
    "duration": 22,
    "start_time": "2023-06-02T19:12:30.772Z"
   },
   {
    "duration": 177,
    "start_time": "2023-06-02T19:13:47.161Z"
   },
   {
    "duration": 79,
    "start_time": "2023-06-02T19:13:52.792Z"
   },
   {
    "duration": 64,
    "start_time": "2023-06-02T19:14:11.484Z"
   },
   {
    "duration": 72,
    "start_time": "2023-06-02T19:15:12.133Z"
   },
   {
    "duration": 157,
    "start_time": "2023-06-02T19:21:51.713Z"
   },
   {
    "duration": 108,
    "start_time": "2023-06-02T19:22:10.677Z"
   },
   {
    "duration": 245,
    "start_time": "2023-06-02T19:22:21.998Z"
   },
   {
    "duration": 6,
    "start_time": "2023-06-02T19:23:40.341Z"
   },
   {
    "duration": 0,
    "start_time": "2023-06-02T19:35:19.023Z"
   },
   {
    "duration": 252,
    "start_time": "2023-06-02T19:35:20.952Z"
   },
   {
    "duration": 255,
    "start_time": "2023-06-02T19:35:54.411Z"
   },
   {
    "duration": 154,
    "start_time": "2023-06-02T19:36:18.693Z"
   },
   {
    "duration": 142,
    "start_time": "2023-06-02T19:36:27.658Z"
   },
   {
    "duration": 155,
    "start_time": "2023-06-02T19:36:43.492Z"
   },
   {
    "duration": 162,
    "start_time": "2023-06-02T19:39:05.041Z"
   },
   {
    "duration": 6903,
    "start_time": "2023-06-02T19:40:16.779Z"
   },
   {
    "duration": 171,
    "start_time": "2023-06-02T19:40:27.493Z"
   },
   {
    "duration": 292,
    "start_time": "2023-06-02T19:40:30.285Z"
   },
   {
    "duration": 294,
    "start_time": "2023-06-02T19:41:29.942Z"
   },
   {
    "duration": 4,
    "start_time": "2023-06-02T19:45:33.334Z"
   },
   {
    "duration": 4,
    "start_time": "2023-06-02T19:45:46.631Z"
   },
   {
    "duration": 9,
    "start_time": "2023-06-02T19:47:59.401Z"
   },
   {
    "duration": 48,
    "start_time": "2023-06-02T19:49:33.196Z"
   },
   {
    "duration": 14,
    "start_time": "2023-06-02T19:49:40.439Z"
   },
   {
    "duration": 1542,
    "start_time": "2023-06-02T19:49:47.885Z"
   },
   {
    "duration": 10,
    "start_time": "2023-06-02T19:49:53.568Z"
   },
   {
    "duration": 396,
    "start_time": "2023-06-02T19:49:54.306Z"
   },
   {
    "duration": 362,
    "start_time": "2023-06-02T19:50:14.766Z"
   },
   {
    "duration": 304,
    "start_time": "2023-06-02T19:50:29.165Z"
   },
   {
    "duration": 315,
    "start_time": "2023-06-02T19:50:56.149Z"
   },
   {
    "duration": 3929,
    "start_time": "2023-06-02T19:54:35.007Z"
   },
   {
    "duration": 89,
    "start_time": "2023-06-02T19:54:38.938Z"
   },
   {
    "duration": 18,
    "start_time": "2023-06-02T19:54:39.029Z"
   },
   {
    "duration": 29,
    "start_time": "2023-06-02T19:54:39.053Z"
   },
   {
    "duration": 19,
    "start_time": "2023-06-02T19:54:39.087Z"
   },
   {
    "duration": 23,
    "start_time": "2023-06-02T19:54:39.107Z"
   },
   {
    "duration": 19,
    "start_time": "2023-06-02T19:54:39.131Z"
   },
   {
    "duration": 10,
    "start_time": "2023-06-02T19:54:39.155Z"
   },
   {
    "duration": 46,
    "start_time": "2023-06-02T19:54:39.168Z"
   },
   {
    "duration": 164,
    "start_time": "2023-06-02T19:54:42.607Z"
   },
   {
    "duration": 8,
    "start_time": "2023-06-02T19:54:46.102Z"
   },
   {
    "duration": 7,
    "start_time": "2023-06-02T19:54:51.324Z"
   },
   {
    "duration": 11,
    "start_time": "2023-06-02T19:55:14.704Z"
   },
   {
    "duration": 1312,
    "start_time": "2023-06-03T10:57:36.487Z"
   },
   {
    "duration": 321,
    "start_time": "2023-06-03T10:57:37.801Z"
   },
   {
    "duration": 12,
    "start_time": "2023-06-03T10:57:38.124Z"
   },
   {
    "duration": 17,
    "start_time": "2023-06-03T10:57:38.138Z"
   },
   {
    "duration": 24,
    "start_time": "2023-06-03T10:57:38.164Z"
   },
   {
    "duration": 25,
    "start_time": "2023-06-03T10:57:38.190Z"
   },
   {
    "duration": 38,
    "start_time": "2023-06-03T10:57:38.217Z"
   },
   {
    "duration": 15,
    "start_time": "2023-06-03T10:57:38.257Z"
   },
   {
    "duration": 30,
    "start_time": "2023-06-03T10:57:38.273Z"
   },
   {
    "duration": 24,
    "start_time": "2023-06-03T10:57:38.306Z"
   },
   {
    "duration": 185,
    "start_time": "2023-06-03T10:57:38.332Z"
   },
   {
    "duration": 171,
    "start_time": "2023-06-03T10:57:38.519Z"
   },
   {
    "duration": 323,
    "start_time": "2023-06-03T10:57:38.692Z"
   },
   {
    "duration": 203,
    "start_time": "2023-06-03T10:57:39.018Z"
   },
   {
    "duration": 177,
    "start_time": "2023-06-03T10:57:39.223Z"
   },
   {
    "duration": 18,
    "start_time": "2023-06-03T10:57:39.402Z"
   },
   {
    "duration": 12,
    "start_time": "2023-06-03T10:57:39.421Z"
   },
   {
    "duration": 269,
    "start_time": "2023-06-03T10:57:39.434Z"
   },
   {
    "duration": 270,
    "start_time": "2023-06-03T10:57:39.705Z"
   },
   {
    "duration": 6,
    "start_time": "2023-06-03T10:57:39.978Z"
   },
   {
    "duration": 6,
    "start_time": "2023-06-03T10:57:39.985Z"
   },
   {
    "duration": 5,
    "start_time": "2023-06-03T10:57:39.993Z"
   },
   {
    "duration": 9,
    "start_time": "2023-06-03T10:57:40.000Z"
   },
   {
    "duration": 23,
    "start_time": "2023-06-03T10:57:40.011Z"
   },
   {
    "duration": 28,
    "start_time": "2023-06-03T10:57:40.036Z"
   },
   {
    "duration": 26,
    "start_time": "2023-06-03T10:57:40.066Z"
   },
   {
    "duration": 102,
    "start_time": "2023-06-03T10:57:40.094Z"
   },
   {
    "duration": 20,
    "start_time": "2023-06-03T10:57:40.199Z"
   },
   {
    "duration": 5,
    "start_time": "2023-06-03T10:57:40.221Z"
   },
   {
    "duration": 39,
    "start_time": "2023-06-03T10:57:40.228Z"
   },
   {
    "duration": 69,
    "start_time": "2023-06-03T10:57:40.270Z"
   },
   {
    "duration": 4,
    "start_time": "2023-06-03T10:57:40.341Z"
   },
   {
    "duration": 288,
    "start_time": "2023-06-03T10:57:40.346Z"
   },
   {
    "duration": 19,
    "start_time": "2023-06-03T11:06:14.976Z"
   },
   {
    "duration": 102,
    "start_time": "2023-06-03T11:08:20.025Z"
   },
   {
    "duration": 7,
    "start_time": "2023-06-03T11:08:37.021Z"
   },
   {
    "duration": 14,
    "start_time": "2023-06-03T11:09:09.413Z"
   },
   {
    "duration": 1164,
    "start_time": "2023-06-03T11:24:59.373Z"
   },
   {
    "duration": 72,
    "start_time": "2023-06-03T11:25:00.540Z"
   },
   {
    "duration": 14,
    "start_time": "2023-06-03T11:25:00.614Z"
   },
   {
    "duration": 47,
    "start_time": "2023-06-03T11:25:00.631Z"
   },
   {
    "duration": 36,
    "start_time": "2023-06-03T11:25:00.680Z"
   },
   {
    "duration": 62,
    "start_time": "2023-06-03T11:25:00.718Z"
   },
   {
    "duration": 88,
    "start_time": "2023-06-03T11:25:00.782Z"
   },
   {
    "duration": 17,
    "start_time": "2023-06-03T11:25:00.871Z"
   },
   {
    "duration": 38,
    "start_time": "2023-06-03T11:25:00.890Z"
   },
   {
    "duration": 23,
    "start_time": "2023-06-03T11:25:00.931Z"
   },
   {
    "duration": 198,
    "start_time": "2023-06-03T11:25:00.956Z"
   },
   {
    "duration": 191,
    "start_time": "2023-06-03T11:25:01.156Z"
   },
   {
    "duration": 285,
    "start_time": "2023-06-03T11:25:01.348Z"
   },
   {
    "duration": 182,
    "start_time": "2023-06-03T11:25:01.635Z"
   },
   {
    "duration": 198,
    "start_time": "2023-06-03T11:25:01.819Z"
   },
   {
    "duration": 19,
    "start_time": "2023-06-03T11:25:02.020Z"
   },
   {
    "duration": 27,
    "start_time": "2023-06-03T11:25:02.041Z"
   },
   {
    "duration": 283,
    "start_time": "2023-06-03T11:25:02.070Z"
   },
   {
    "duration": 306,
    "start_time": "2023-06-03T11:25:02.356Z"
   },
   {
    "duration": 9,
    "start_time": "2023-06-03T11:25:02.663Z"
   },
   {
    "duration": 6,
    "start_time": "2023-06-03T11:25:02.674Z"
   },
   {
    "duration": 4,
    "start_time": "2023-06-03T11:25:02.682Z"
   },
   {
    "duration": 12,
    "start_time": "2023-06-03T11:25:02.687Z"
   },
   {
    "duration": 30,
    "start_time": "2023-06-03T11:25:02.701Z"
   },
   {
    "duration": 5,
    "start_time": "2023-06-03T11:25:02.733Z"
   },
   {
    "duration": 25,
    "start_time": "2023-06-03T11:25:02.740Z"
   },
   {
    "duration": 98,
    "start_time": "2023-06-03T11:25:02.769Z"
   },
   {
    "duration": 26,
    "start_time": "2023-06-03T11:25:02.873Z"
   },
   {
    "duration": 6,
    "start_time": "2023-06-03T11:25:02.902Z"
   },
   {
    "duration": 5,
    "start_time": "2023-06-03T11:25:02.911Z"
   },
   {
    "duration": 105,
    "start_time": "2023-06-03T11:25:02.918Z"
   },
   {
    "duration": 3,
    "start_time": "2023-06-03T11:25:03.025Z"
   },
   {
    "duration": 302,
    "start_time": "2023-06-03T11:25:03.030Z"
   },
   {
    "duration": 51,
    "start_time": "2023-06-03T12:01:46.348Z"
   },
   {
    "duration": 1443,
    "start_time": "2023-06-03T12:01:50.304Z"
   },
   {
    "duration": 325,
    "start_time": "2023-06-03T12:01:51.749Z"
   },
   {
    "duration": 15,
    "start_time": "2023-06-03T12:01:52.075Z"
   },
   {
    "duration": 7,
    "start_time": "2023-06-03T12:01:52.093Z"
   },
   {
    "duration": 7,
    "start_time": "2023-06-03T12:01:52.101Z"
   },
   {
    "duration": 12,
    "start_time": "2023-06-03T12:01:52.110Z"
   },
   {
    "duration": 18,
    "start_time": "2023-06-03T12:01:52.123Z"
   },
   {
    "duration": 9,
    "start_time": "2023-06-03T12:01:52.143Z"
   },
   {
    "duration": 29,
    "start_time": "2023-06-03T12:01:52.154Z"
   },
   {
    "duration": 67,
    "start_time": "2023-06-03T12:01:52.185Z"
   },
   {
    "duration": 10,
    "start_time": "2023-06-03T12:01:55.690Z"
   },
   {
    "duration": 18,
    "start_time": "2023-06-03T12:02:07.459Z"
   },
   {
    "duration": 5,
    "start_time": "2023-06-03T12:02:16.890Z"
   },
   {
    "duration": 5,
    "start_time": "2023-06-03T12:02:23.048Z"
   },
   {
    "duration": 8,
    "start_time": "2023-06-03T12:03:14.801Z"
   },
   {
    "duration": 5,
    "start_time": "2023-06-03T12:03:17.996Z"
   },
   {
    "duration": 8,
    "start_time": "2023-06-03T12:03:26.407Z"
   },
   {
    "duration": 134,
    "start_time": "2023-06-03T12:06:38.391Z"
   },
   {
    "duration": 126,
    "start_time": "2023-06-03T12:06:50.347Z"
   },
   {
    "duration": 128,
    "start_time": "2023-06-03T12:07:04.646Z"
   },
   {
    "duration": 132,
    "start_time": "2023-06-03T12:07:17.964Z"
   },
   {
    "duration": 132,
    "start_time": "2023-06-03T12:07:29.146Z"
   },
   {
    "duration": 144,
    "start_time": "2023-06-03T12:07:49.317Z"
   },
   {
    "duration": 126,
    "start_time": "2023-06-03T12:08:03.634Z"
   },
   {
    "duration": 130,
    "start_time": "2023-06-03T12:08:06.418Z"
   },
   {
    "duration": 149,
    "start_time": "2023-06-03T12:08:13.507Z"
   },
   {
    "duration": 160,
    "start_time": "2023-06-03T12:09:30.968Z"
   },
   {
    "duration": 102,
    "start_time": "2023-06-03T12:10:00.427Z"
   },
   {
    "duration": 100,
    "start_time": "2023-06-03T12:12:28.645Z"
   },
   {
    "duration": 198,
    "start_time": "2023-06-03T12:12:34.090Z"
   },
   {
    "duration": 101,
    "start_time": "2023-06-03T12:12:37.690Z"
   },
   {
    "duration": 94,
    "start_time": "2023-06-03T12:13:32.143Z"
   },
   {
    "duration": 126,
    "start_time": "2023-06-03T12:13:50.165Z"
   },
   {
    "duration": 95,
    "start_time": "2023-06-03T12:13:53.052Z"
   },
   {
    "duration": 113,
    "start_time": "2023-06-03T12:14:02.947Z"
   },
   {
    "duration": 118,
    "start_time": "2023-06-03T12:14:05.673Z"
   },
   {
    "duration": 100,
    "start_time": "2023-06-03T12:14:21.695Z"
   },
   {
    "duration": 95,
    "start_time": "2023-06-03T12:14:33.541Z"
   },
   {
    "duration": 104,
    "start_time": "2023-06-03T12:14:45.523Z"
   },
   {
    "duration": 9,
    "start_time": "2023-06-03T12:15:40.936Z"
   },
   {
    "duration": 121,
    "start_time": "2023-06-03T12:17:30.573Z"
   },
   {
    "duration": 275,
    "start_time": "2023-06-03T12:18:11.294Z"
   },
   {
    "duration": 266,
    "start_time": "2023-06-03T12:18:20.992Z"
   },
   {
    "duration": 245,
    "start_time": "2023-06-03T12:18:47.965Z"
   },
   {
    "duration": 224,
    "start_time": "2023-06-03T12:19:37.494Z"
   },
   {
    "duration": 192,
    "start_time": "2023-06-03T12:19:45.621Z"
   },
   {
    "duration": 209,
    "start_time": "2023-06-03T12:20:35.338Z"
   },
   {
    "duration": 174,
    "start_time": "2023-06-03T12:20:48.294Z"
   },
   {
    "duration": 211,
    "start_time": "2023-06-03T12:21:05.497Z"
   },
   {
    "duration": 157,
    "start_time": "2023-06-03T12:21:24.775Z"
   },
   {
    "duration": 14425,
    "start_time": "2023-06-03T12:21:30.371Z"
   },
   {
    "duration": 155,
    "start_time": "2023-06-03T12:23:11.890Z"
   },
   {
    "duration": 197,
    "start_time": "2023-06-03T12:23:18.945Z"
   },
   {
    "duration": 192,
    "start_time": "2023-06-03T12:23:23.527Z"
   },
   {
    "duration": 195,
    "start_time": "2023-06-03T12:23:40.855Z"
   },
   {
    "duration": 191,
    "start_time": "2023-06-03T12:23:56.908Z"
   },
   {
    "duration": 190,
    "start_time": "2023-06-03T12:24:04.693Z"
   },
   {
    "duration": 696,
    "start_time": "2023-06-03T12:24:10.073Z"
   },
   {
    "duration": 15,
    "start_time": "2023-06-03T12:24:52.041Z"
   },
   {
    "duration": 184,
    "start_time": "2023-06-03T12:25:55.227Z"
   },
   {
    "duration": 205,
    "start_time": "2023-06-03T12:26:15.699Z"
   },
   {
    "duration": 190,
    "start_time": "2023-06-03T12:26:24.226Z"
   },
   {
    "duration": 15,
    "start_time": "2023-06-03T12:26:43.589Z"
   },
   {
    "duration": 11,
    "start_time": "2023-06-03T12:26:49.320Z"
   },
   {
    "duration": 176,
    "start_time": "2023-06-03T12:26:55.398Z"
   },
   {
    "duration": 9,
    "start_time": "2023-06-03T12:27:00.654Z"
   },
   {
    "duration": 165,
    "start_time": "2023-06-03T12:27:07.834Z"
   },
   {
    "duration": 1167,
    "start_time": "2023-06-03T12:27:18.191Z"
   },
   {
    "duration": 310,
    "start_time": "2023-06-03T12:27:19.360Z"
   },
   {
    "duration": 15,
    "start_time": "2023-06-03T12:27:19.671Z"
   },
   {
    "duration": 9,
    "start_time": "2023-06-03T12:27:19.689Z"
   },
   {
    "duration": 6,
    "start_time": "2023-06-03T12:27:19.699Z"
   },
   {
    "duration": 11,
    "start_time": "2023-06-03T12:27:19.707Z"
   },
   {
    "duration": 10,
    "start_time": "2023-06-03T12:27:19.719Z"
   },
   {
    "duration": 7,
    "start_time": "2023-06-03T12:27:19.730Z"
   },
   {
    "duration": 40,
    "start_time": "2023-06-03T12:27:19.738Z"
   },
   {
    "duration": 6,
    "start_time": "2023-06-03T12:27:19.781Z"
   },
   {
    "duration": 5,
    "start_time": "2023-06-03T12:27:19.789Z"
   },
   {
    "duration": 6,
    "start_time": "2023-06-03T12:27:19.796Z"
   },
   {
    "duration": 15,
    "start_time": "2023-06-03T12:27:19.804Z"
   },
   {
    "duration": 4,
    "start_time": "2023-06-03T12:27:19.821Z"
   },
   {
    "duration": 179,
    "start_time": "2023-06-03T12:27:19.827Z"
   },
   {
    "duration": 110,
    "start_time": "2023-06-03T12:27:20.007Z"
   },
   {
    "duration": 274,
    "start_time": "2023-06-03T12:27:20.119Z"
   },
   {
    "duration": 9,
    "start_time": "2023-06-03T12:27:20.395Z"
   },
   {
    "duration": 188,
    "start_time": "2023-06-03T12:27:20.405Z"
   },
   {
    "duration": 10,
    "start_time": "2023-06-03T12:27:20.595Z"
   },
   {
    "duration": 187,
    "start_time": "2023-06-03T12:27:20.606Z"
   },
   {
    "duration": 219,
    "start_time": "2023-06-03T12:27:49.454Z"
   },
   {
    "duration": 178,
    "start_time": "2023-06-03T12:27:51.287Z"
   },
   {
    "duration": 4,
    "start_time": "2023-06-03T12:33:54.101Z"
   },
   {
    "duration": 98,
    "start_time": "2023-06-03T12:34:04.173Z"
   },
   {
    "duration": 18,
    "start_time": "2023-06-03T12:34:06.089Z"
   },
   {
    "duration": 3,
    "start_time": "2023-06-03T12:34:06.743Z"
   },
   {
    "duration": 182,
    "start_time": "2023-06-03T12:34:45.860Z"
   },
   {
    "duration": 4,
    "start_time": "2023-06-03T12:34:51.094Z"
   },
   {
    "duration": 9,
    "start_time": "2023-06-03T12:35:29.950Z"
   },
   {
    "duration": 12,
    "start_time": "2023-06-03T12:35:33.801Z"
   },
   {
    "duration": 244,
    "start_time": "2023-06-03T12:35:34.811Z"
   },
   {
    "duration": 314,
    "start_time": "2023-06-03T12:35:41.539Z"
   },
   {
    "duration": 4,
    "start_time": "2023-06-03T12:35:45.892Z"
   },
   {
    "duration": 4,
    "start_time": "2023-06-03T12:35:48.430Z"
   },
   {
    "duration": 4,
    "start_time": "2023-06-03T12:35:51.095Z"
   },
   {
    "duration": 3,
    "start_time": "2023-06-03T12:35:54.623Z"
   },
   {
    "duration": 4,
    "start_time": "2023-06-03T12:35:59.952Z"
   },
   {
    "duration": 10,
    "start_time": "2023-06-03T12:36:23.328Z"
   },
   {
    "duration": 276,
    "start_time": "2023-06-03T12:36:33.391Z"
   },
   {
    "duration": 116,
    "start_time": "2023-06-03T12:36:36.302Z"
   },
   {
    "duration": 123,
    "start_time": "2023-06-03T12:36:40.142Z"
   },
   {
    "duration": 220,
    "start_time": "2023-06-03T12:36:44.426Z"
   },
   {
    "duration": 305,
    "start_time": "2023-06-03T12:37:17.434Z"
   },
   {
    "duration": 319,
    "start_time": "2023-06-03T12:37:31.426Z"
   },
   {
    "duration": 298,
    "start_time": "2023-06-03T12:37:49.562Z"
   },
   {
    "duration": 4,
    "start_time": "2023-06-03T12:37:59.335Z"
   },
   {
    "duration": 9,
    "start_time": "2023-06-03T12:38:04.198Z"
   },
   {
    "duration": 8,
    "start_time": "2023-06-03T12:39:14.245Z"
   },
   {
    "duration": 4,
    "start_time": "2023-06-03T12:39:20.491Z"
   },
   {
    "duration": 3,
    "start_time": "2023-06-03T12:39:26.765Z"
   },
   {
    "duration": 3,
    "start_time": "2023-06-03T12:39:29.440Z"
   },
   {
    "duration": 114,
    "start_time": "2023-06-03T12:39:38.390Z"
   },
   {
    "duration": 8,
    "start_time": "2023-06-03T12:39:43.921Z"
   },
   {
    "duration": 4,
    "start_time": "2023-06-03T12:39:52.835Z"
   },
   {
    "duration": 6,
    "start_time": "2023-06-03T12:39:56.051Z"
   },
   {
    "duration": 3,
    "start_time": "2023-06-03T12:40:00.008Z"
   },
   {
    "duration": 324,
    "start_time": "2023-06-03T12:40:18.448Z"
   },
   {
    "duration": 215,
    "start_time": "2023-06-03T12:40:56.900Z"
   },
   {
    "duration": 218,
    "start_time": "2023-06-03T12:41:09.756Z"
   },
   {
    "duration": 394,
    "start_time": "2023-06-03T12:41:40.876Z"
   },
   {
    "duration": 238,
    "start_time": "2023-06-03T12:42:08.260Z"
   },
   {
    "duration": 217,
    "start_time": "2023-06-03T12:42:32.513Z"
   },
   {
    "duration": 218,
    "start_time": "2023-06-03T12:44:17.955Z"
   },
   {
    "duration": 286,
    "start_time": "2023-06-03T12:44:37.126Z"
   },
   {
    "duration": 426,
    "start_time": "2023-06-03T12:45:43.108Z"
   },
   {
    "duration": 474,
    "start_time": "2023-06-03T12:46:37.313Z"
   },
   {
    "duration": 483,
    "start_time": "2023-06-03T12:46:48.590Z"
   },
   {
    "duration": 597,
    "start_time": "2023-06-03T12:46:57.695Z"
   },
   {
    "duration": 449,
    "start_time": "2023-06-03T12:47:37.754Z"
   },
   {
    "duration": 524,
    "start_time": "2023-06-03T12:47:42.896Z"
   },
   {
    "duration": 530,
    "start_time": "2023-06-03T12:48:10.408Z"
   },
   {
    "duration": 517,
    "start_time": "2023-06-03T12:48:27.496Z"
   },
   {
    "duration": 462,
    "start_time": "2023-06-03T12:48:32.939Z"
   },
   {
    "duration": 9,
    "start_time": "2023-06-03T12:48:48.930Z"
   },
   {
    "duration": 8,
    "start_time": "2023-06-03T12:49:00.733Z"
   },
   {
    "duration": 8,
    "start_time": "2023-06-03T12:49:01.260Z"
   },
   {
    "duration": 11,
    "start_time": "2023-06-03T12:49:02.192Z"
   },
   {
    "duration": 696,
    "start_time": "2023-06-03T12:49:09.747Z"
   },
   {
    "duration": 137,
    "start_time": "2023-06-03T12:49:54.941Z"
   },
   {
    "duration": 554,
    "start_time": "2023-06-03T12:50:51.569Z"
   },
   {
    "duration": 585,
    "start_time": "2023-06-03T12:51:06.877Z"
   },
   {
    "duration": 14,
    "start_time": "2023-06-03T12:51:36.075Z"
   },
   {
    "duration": 12,
    "start_time": "2023-06-03T12:51:45.813Z"
   },
   {
    "duration": 508,
    "start_time": "2023-06-03T12:53:04.859Z"
   },
   {
    "duration": 7,
    "start_time": "2023-06-03T12:54:31.557Z"
   },
   {
    "duration": 193,
    "start_time": "2023-06-03T12:54:55.836Z"
   },
   {
    "duration": 10,
    "start_time": "2023-06-03T12:55:01.950Z"
   },
   {
    "duration": 12,
    "start_time": "2023-06-03T12:55:14.847Z"
   },
   {
    "duration": 13,
    "start_time": "2023-06-03T12:55:18.068Z"
   },
   {
    "duration": 12,
    "start_time": "2023-06-03T12:59:32.371Z"
   },
   {
    "duration": 6,
    "start_time": "2023-06-03T13:04:20.922Z"
   },
   {
    "duration": 9,
    "start_time": "2023-06-03T13:05:17.197Z"
   },
   {
    "duration": 12,
    "start_time": "2023-06-03T13:05:18.267Z"
   },
   {
    "duration": 19,
    "start_time": "2023-06-03T13:05:21.846Z"
   },
   {
    "duration": 20,
    "start_time": "2023-06-03T13:05:27.228Z"
   },
   {
    "duration": 1154,
    "start_time": "2023-06-03T13:05:51.710Z"
   },
   {
    "duration": 98,
    "start_time": "2023-06-03T13:05:52.866Z"
   },
   {
    "duration": 42,
    "start_time": "2023-06-03T13:05:52.966Z"
   },
   {
    "duration": 11,
    "start_time": "2023-06-03T13:05:53.016Z"
   },
   {
    "duration": 34,
    "start_time": "2023-06-03T13:05:53.029Z"
   },
   {
    "duration": 39,
    "start_time": "2023-06-03T13:05:53.064Z"
   },
   {
    "duration": 22,
    "start_time": "2023-06-03T13:05:53.104Z"
   },
   {
    "duration": 22,
    "start_time": "2023-06-03T13:05:53.127Z"
   },
   {
    "duration": 27,
    "start_time": "2023-06-03T13:05:53.150Z"
   },
   {
    "duration": 36,
    "start_time": "2023-06-03T13:05:53.184Z"
   },
   {
    "duration": 20,
    "start_time": "2023-06-03T13:05:53.222Z"
   },
   {
    "duration": 37,
    "start_time": "2023-06-03T13:05:53.244Z"
   },
   {
    "duration": 36,
    "start_time": "2023-06-03T13:05:53.287Z"
   },
   {
    "duration": 14,
    "start_time": "2023-06-03T13:05:53.326Z"
   },
   {
    "duration": 174,
    "start_time": "2023-06-03T13:05:53.341Z"
   },
   {
    "duration": 114,
    "start_time": "2023-06-03T13:05:53.517Z"
   },
   {
    "duration": 282,
    "start_time": "2023-06-03T13:05:53.633Z"
   },
   {
    "duration": 8,
    "start_time": "2023-06-03T13:05:53.917Z"
   },
   {
    "duration": 215,
    "start_time": "2023-06-03T13:05:53.927Z"
   },
   {
    "duration": 8,
    "start_time": "2023-06-03T13:05:54.144Z"
   },
   {
    "duration": 219,
    "start_time": "2023-06-03T13:05:54.154Z"
   },
   {
    "duration": 33,
    "start_time": "2023-06-03T13:05:54.377Z"
   },
   {
    "duration": 20,
    "start_time": "2023-06-03T13:05:54.419Z"
   },
   {
    "duration": 27,
    "start_time": "2023-06-03T13:05:54.440Z"
   },
   {
    "duration": 50,
    "start_time": "2023-06-03T13:05:54.468Z"
   },
   {
    "duration": 487,
    "start_time": "2023-06-03T13:05:54.519Z"
   },
   {
    "duration": 15,
    "start_time": "2023-06-03T13:05:55.016Z"
   },
   {
    "duration": 12,
    "start_time": "2023-06-03T13:05:55.038Z"
   },
   {
    "duration": 581,
    "start_time": "2023-06-03T13:05:55.052Z"
   },
   {
    "duration": 10,
    "start_time": "2023-06-03T13:05:55.637Z"
   },
   {
    "duration": 79,
    "start_time": "2023-06-03T13:05:55.649Z"
   },
   {
    "duration": 31,
    "start_time": "2023-06-03T13:05:55.730Z"
   },
   {
    "duration": 52,
    "start_time": "2023-06-03T13:05:55.762Z"
   },
   {
    "duration": 14,
    "start_time": "2023-06-03T13:05:55.816Z"
   },
   {
    "duration": 6,
    "start_time": "2023-06-03T13:05:55.837Z"
   },
   {
    "duration": 10,
    "start_time": "2023-06-03T13:05:55.845Z"
   },
   {
    "duration": 12,
    "start_time": "2023-06-03T13:05:56.327Z"
   },
   {
    "duration": 16,
    "start_time": "2023-06-03T13:06:00.332Z"
   },
   {
    "duration": 14,
    "start_time": "2023-06-03T13:06:47.717Z"
   },
   {
    "duration": 17,
    "start_time": "2023-06-03T13:06:50.611Z"
   },
   {
    "duration": 24,
    "start_time": "2023-06-03T13:06:52.952Z"
   },
   {
    "duration": 4,
    "start_time": "2023-06-03T13:08:43.423Z"
   },
   {
    "duration": 149,
    "start_time": "2023-06-03T13:10:12.422Z"
   },
   {
    "duration": 4,
    "start_time": "2023-06-03T13:10:17.442Z"
   },
   {
    "duration": 11,
    "start_time": "2023-06-03T13:11:15.299Z"
   },
   {
    "duration": 5,
    "start_time": "2023-06-03T13:11:40.334Z"
   },
   {
    "duration": 4,
    "start_time": "2023-06-03T13:11:47.055Z"
   },
   {
    "duration": 6,
    "start_time": "2023-06-03T13:15:10.956Z"
   },
   {
    "duration": 7,
    "start_time": "2023-06-03T13:15:26.118Z"
   },
   {
    "duration": 6,
    "start_time": "2023-06-03T13:15:26.544Z"
   },
   {
    "duration": 6,
    "start_time": "2023-06-03T13:15:26.734Z"
   },
   {
    "duration": 5,
    "start_time": "2023-06-03T13:15:26.865Z"
   },
   {
    "duration": 11,
    "start_time": "2023-06-03T13:15:28.494Z"
   },
   {
    "duration": 3,
    "start_time": "2023-06-03T13:16:25.256Z"
   },
   {
    "duration": 4,
    "start_time": "2023-06-03T13:16:29.047Z"
   },
   {
    "duration": 5,
    "start_time": "2023-06-03T13:16:29.520Z"
   },
   {
    "duration": 11,
    "start_time": "2023-06-03T13:16:57.321Z"
   },
   {
    "duration": 10,
    "start_time": "2023-06-03T13:17:00.299Z"
   },
   {
    "duration": 3,
    "start_time": "2023-06-03T13:17:01.172Z"
   },
   {
    "duration": 5,
    "start_time": "2023-06-03T13:17:02.219Z"
   },
   {
    "duration": 4,
    "start_time": "2023-06-03T13:17:02.834Z"
   },
   {
    "duration": 19,
    "start_time": "2023-06-03T13:18:57.121Z"
   },
   {
    "duration": 17,
    "start_time": "2023-06-03T13:19:16.107Z"
   },
   {
    "duration": 16,
    "start_time": "2023-06-03T13:19:26.419Z"
   },
   {
    "duration": 131,
    "start_time": "2023-06-03T13:19:41.426Z"
   },
   {
    "duration": 26,
    "start_time": "2023-06-03T13:19:46.213Z"
   },
   {
    "duration": 9,
    "start_time": "2023-06-03T13:20:32.330Z"
   },
   {
    "duration": 4,
    "start_time": "2023-06-03T13:20:59.754Z"
   },
   {
    "duration": 11,
    "start_time": "2023-06-03T13:21:02.114Z"
   },
   {
    "duration": 9,
    "start_time": "2023-06-03T13:21:02.675Z"
   },
   {
    "duration": 1086,
    "start_time": "2023-06-03T13:29:00.787Z"
   },
   {
    "duration": 71,
    "start_time": "2023-06-03T13:29:01.875Z"
   },
   {
    "duration": 13,
    "start_time": "2023-06-03T13:29:01.948Z"
   },
   {
    "duration": 26,
    "start_time": "2023-06-03T13:29:01.963Z"
   },
   {
    "duration": 23,
    "start_time": "2023-06-03T13:29:01.991Z"
   },
   {
    "duration": 26,
    "start_time": "2023-06-03T13:29:02.015Z"
   },
   {
    "duration": 52,
    "start_time": "2023-06-03T13:29:02.043Z"
   },
   {
    "duration": 7,
    "start_time": "2023-06-03T13:29:02.096Z"
   },
   {
    "duration": 8,
    "start_time": "2023-06-03T13:29:02.104Z"
   },
   {
    "duration": 12,
    "start_time": "2023-06-03T13:29:02.115Z"
   },
   {
    "duration": 12,
    "start_time": "2023-06-03T13:29:02.128Z"
   },
   {
    "duration": 16,
    "start_time": "2023-06-03T13:29:02.142Z"
   },
   {
    "duration": 31,
    "start_time": "2023-06-03T13:29:02.160Z"
   },
   {
    "duration": 26,
    "start_time": "2023-06-03T13:29:02.192Z"
   },
   {
    "duration": 164,
    "start_time": "2023-06-03T13:29:02.220Z"
   },
   {
    "duration": 108,
    "start_time": "2023-06-03T13:29:02.386Z"
   },
   {
    "duration": 265,
    "start_time": "2023-06-03T13:29:02.496Z"
   },
   {
    "duration": 24,
    "start_time": "2023-06-03T13:29:02.763Z"
   },
   {
    "duration": 173,
    "start_time": "2023-06-03T13:29:02.791Z"
   },
   {
    "duration": 19,
    "start_time": "2023-06-03T13:29:02.965Z"
   },
   {
    "duration": 179,
    "start_time": "2023-06-03T13:29:02.989Z"
   },
   {
    "duration": 20,
    "start_time": "2023-06-03T13:29:03.170Z"
   },
   {
    "duration": 17,
    "start_time": "2023-06-03T13:29:03.191Z"
   },
   {
    "duration": 4,
    "start_time": "2023-06-03T13:29:03.209Z"
   },
   {
    "duration": 11,
    "start_time": "2023-06-03T13:29:03.214Z"
   },
   {
    "duration": 446,
    "start_time": "2023-06-03T13:29:03.227Z"
   },
   {
    "duration": 12,
    "start_time": "2023-06-03T13:29:03.675Z"
   },
   {
    "duration": 17,
    "start_time": "2023-06-03T13:29:03.691Z"
   },
   {
    "duration": 465,
    "start_time": "2023-06-03T13:29:03.710Z"
   },
   {
    "duration": 16,
    "start_time": "2023-06-03T13:29:04.177Z"
   },
   {
    "duration": 8,
    "start_time": "2023-06-03T13:29:04.195Z"
   },
   {
    "duration": 5,
    "start_time": "2023-06-03T13:29:04.204Z"
   },
   {
    "duration": 5,
    "start_time": "2023-06-03T13:29:04.210Z"
   },
   {
    "duration": 9,
    "start_time": "2023-06-03T13:29:04.216Z"
   },
   {
    "duration": 6,
    "start_time": "2023-06-03T13:29:04.227Z"
   },
   {
    "duration": 4,
    "start_time": "2023-06-03T13:29:04.234Z"
   },
   {
    "duration": 38,
    "start_time": "2023-06-03T13:29:04.240Z"
   },
   {
    "duration": 15,
    "start_time": "2023-06-03T13:29:04.280Z"
   },
   {
    "duration": 9,
    "start_time": "2023-06-03T13:29:04.298Z"
   },
   {
    "duration": 110,
    "start_time": "2023-06-03T13:29:04.308Z"
   },
   {
    "duration": 17,
    "start_time": "2023-06-03T13:29:04.420Z"
   },
   {
    "duration": 12,
    "start_time": "2023-06-03T13:29:04.439Z"
   },
   {
    "duration": 8,
    "start_time": "2023-06-03T13:29:04.453Z"
   },
   {
    "duration": 5,
    "start_time": "2023-06-03T13:29:04.463Z"
   },
   {
    "duration": 22,
    "start_time": "2023-06-03T13:29:04.469Z"
   },
   {
    "duration": 4,
    "start_time": "2023-06-03T13:29:04.494Z"
   },
   {
    "duration": 13,
    "start_time": "2023-06-03T13:29:04.499Z"
   },
   {
    "duration": 4,
    "start_time": "2023-06-03T13:29:04.514Z"
   },
   {
    "duration": 3,
    "start_time": "2023-06-03T13:29:04.520Z"
   },
   {
    "duration": 303,
    "start_time": "2023-06-03T13:29:04.525Z"
   },
   {
    "duration": 1493,
    "start_time": "2023-06-03T14:12:47.417Z"
   },
   {
    "duration": 138,
    "start_time": "2023-06-03T14:12:48.913Z"
   },
   {
    "duration": 41,
    "start_time": "2023-06-03T14:12:49.057Z"
   },
   {
    "duration": 23,
    "start_time": "2023-06-03T14:12:49.101Z"
   },
   {
    "duration": 20,
    "start_time": "2023-06-03T14:12:49.125Z"
   },
   {
    "duration": 32,
    "start_time": "2023-06-03T14:12:49.148Z"
   },
   {
    "duration": 36,
    "start_time": "2023-06-03T14:12:49.185Z"
   },
   {
    "duration": 15,
    "start_time": "2023-06-03T14:12:49.223Z"
   },
   {
    "duration": 6,
    "start_time": "2023-06-03T14:12:49.240Z"
   },
   {
    "duration": 14,
    "start_time": "2023-06-03T14:12:49.251Z"
   },
   {
    "duration": 25,
    "start_time": "2023-06-03T14:12:49.269Z"
   },
   {
    "duration": 8,
    "start_time": "2023-06-03T14:12:49.300Z"
   },
   {
    "duration": 18,
    "start_time": "2023-06-03T14:12:49.311Z"
   },
   {
    "duration": 8,
    "start_time": "2023-06-03T14:12:49.332Z"
   },
   {
    "duration": 302,
    "start_time": "2023-06-03T14:12:49.343Z"
   },
   {
    "duration": 154,
    "start_time": "2023-06-03T14:12:49.648Z"
   },
   {
    "duration": 329,
    "start_time": "2023-06-03T14:12:49.804Z"
   },
   {
    "duration": 40,
    "start_time": "2023-06-03T14:12:50.136Z"
   },
   {
    "duration": 266,
    "start_time": "2023-06-03T14:12:50.185Z"
   },
   {
    "duration": 15,
    "start_time": "2023-06-03T14:12:50.453Z"
   },
   {
    "duration": 266,
    "start_time": "2023-06-03T14:12:50.469Z"
   },
   {
    "duration": 22,
    "start_time": "2023-06-03T14:12:50.738Z"
   },
   {
    "duration": 40,
    "start_time": "2023-06-03T14:12:50.762Z"
   },
   {
    "duration": 9,
    "start_time": "2023-06-03T14:12:50.805Z"
   },
   {
    "duration": 27,
    "start_time": "2023-06-03T14:12:50.817Z"
   },
   {
    "duration": 659,
    "start_time": "2023-06-03T14:12:50.848Z"
   },
   {
    "duration": 14,
    "start_time": "2023-06-03T14:12:51.513Z"
   },
   {
    "duration": 15,
    "start_time": "2023-06-03T14:12:51.533Z"
   },
   {
    "duration": 680,
    "start_time": "2023-06-03T14:12:51.549Z"
   },
   {
    "duration": 10,
    "start_time": "2023-06-03T14:12:52.232Z"
   },
   {
    "duration": 25,
    "start_time": "2023-06-03T14:12:52.244Z"
   },
   {
    "duration": 15,
    "start_time": "2023-06-03T14:12:52.271Z"
   },
   {
    "duration": 10,
    "start_time": "2023-06-03T14:12:52.293Z"
   },
   {
    "duration": 5,
    "start_time": "2023-06-03T14:12:52.304Z"
   },
   {
    "duration": 25,
    "start_time": "2023-06-03T14:12:52.312Z"
   },
   {
    "duration": 33,
    "start_time": "2023-06-03T14:12:52.339Z"
   },
   {
    "duration": 27,
    "start_time": "2023-06-03T14:12:52.376Z"
   },
   {
    "duration": 13,
    "start_time": "2023-06-03T14:12:52.404Z"
   },
   {
    "duration": 17,
    "start_time": "2023-06-03T14:12:52.420Z"
   },
   {
    "duration": 29,
    "start_time": "2023-06-03T14:12:52.439Z"
   },
   {
    "duration": 10,
    "start_time": "2023-06-03T14:12:52.472Z"
   },
   {
    "duration": 17,
    "start_time": "2023-06-03T14:12:52.485Z"
   },
   {
    "duration": 17,
    "start_time": "2023-06-03T14:12:52.515Z"
   },
   {
    "duration": 9,
    "start_time": "2023-06-03T14:12:52.534Z"
   },
   {
    "duration": 26,
    "start_time": "2023-06-03T14:12:52.545Z"
   },
   {
    "duration": 5,
    "start_time": "2023-06-03T14:12:52.574Z"
   },
   {
    "duration": 21,
    "start_time": "2023-06-03T14:12:52.581Z"
   },
   {
    "duration": 6,
    "start_time": "2023-06-03T14:12:52.604Z"
   },
   {
    "duration": 6,
    "start_time": "2023-06-03T14:12:52.613Z"
   },
   {
    "duration": 429,
    "start_time": "2023-06-03T14:12:52.621Z"
   },
   {
    "duration": 9,
    "start_time": "2023-06-03T14:15:06.241Z"
   }
  ],
  "kernelspec": {
   "display_name": "Python 3 (ipykernel)",
   "language": "python",
   "name": "python3"
  },
  "language_info": {
   "codemirror_mode": {
    "name": "ipython",
    "version": 3
   },
   "file_extension": ".py",
   "mimetype": "text/x-python",
   "name": "python",
   "nbconvert_exporter": "python",
   "pygments_lexer": "ipython3",
   "version": "3.9.5"
  },
  "toc": {
   "base_numbering": 1,
   "nav_menu": {
    "height": "275px",
    "width": "315px"
   },
   "number_sections": true,
   "sideBar": true,
   "skip_h1_title": true,
   "title_cell": "Table of Contents",
   "title_sidebar": "Contents",
   "toc_cell": false,
   "toc_position": {},
   "toc_section_display": true,
   "toc_window_display": false
  }
 },
 "nbformat": 4,
 "nbformat_minor": 5
}
